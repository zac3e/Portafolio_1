{
  "cells": [
    {
      "cell_type": "code",
      "execution_count": 5,
      "metadata": {},
      "outputs": [],
      "source": [
        "import pandas as pd\n",
        "import matplotlib.pyplot as plt \n",
        "import numpy as np \n",
        "import folium\n",
        "import geopandas as gpd\n",
        "from folium.plugins import HeatMap\n",
        "\n",
        "data=pd.read_csv(r\"/home/diego/Datasets/crimen_nac.csv\", encoding=\"latin1\")\n",
        "map_mec=gpd.read_file(r\"/home/diego/Datasets/mexicoHigh.json\")\n",
        "geojson_map_mec = folium.GeoJson(map_mec)\n",
        "mapa_mexico = folium.Map(location=[23.6345, -102.5528], zoom_start=5)\n",
        "\n"
      ]
    },
    {
      "cell_type": "code",
      "execution_count": 6,
      "metadata": {},
      "outputs": [],
      "source": [
        "\n",
        "\n",
        "data[\"Entidad\"]=data[\"Entidad\"].str.replace(\"Coahuila de Zaragoza\",\"Coahuila\")\n",
        "data[\"Entidad\"]=data[\"Entidad\"].str.replace(\"Michoacán de Ocampo\",\"Michoacán\")\n",
        "data[\"Entidad\"]=data[\"Entidad\"].str.replace(\"Veracruz de Ignacio de la Llave\",\"Veracruz\")\n",
        "\n",
        "data_com=pd.merge(data, map_mec, left_on=\"Entidad\", right_on=\"name\", how=\"inner\")\n",
        "data_com[\"Total\"]=data_com[data_com.columns.to_list()[7:19]].sum(axis=1)\n"
      ]
    },
    {
      "cell_type": "code",
      "execution_count": 7,
      "metadata": {},
      "outputs": [],
      "source": [
        "\n",
        "ano=2019\n",
        "delito=\"Homicidio\"\n",
        "sub_delito=\"Homicidio culposo\"\n",
        "Modalidad =\"Con arma de fuego\"\n",
        "\n",
        "sub=data_com[(data_com[\"Año\"]==ano) & (data_com[\"Tipo de delito\"]==delito) & (data_com[\"Tipo de delito\"]==delito) & (data_com[\"Subtipo de delito\"]==sub_delito) & (data_com[\"Modalidad\"]==Modalidad)]"
      ]
    },
    {
      "cell_type": "code",
      "execution_count": 10,
      "metadata": {},
      "outputs": [
        {
          "data": {
            "text/html": [
              "<div style=\"width:100%;\"><div style=\"position:relative;width:100%;height:0;padding-bottom:60%;\"><span style=\"color:#565656\">Make this Notebook Trusted to load map: File -> Trust Notebook</span><iframe srcdoc=\"&lt;!DOCTYPE html&gt;\n",
              "&lt;html&gt;\n",
              "&lt;head&gt;\n",
              "    \n",
              "    &lt;meta http-equiv=&quot;content-type&quot; content=&quot;text/html; charset=UTF-8&quot; /&gt;\n",
              "    \n",
              "        &lt;script&gt;\n",
              "            L_NO_TOUCH = false;\n",
              "            L_DISABLE_3D = false;\n",
              "        &lt;/script&gt;\n",
              "    \n",
              "    &lt;style&gt;html, body {width: 100%;height: 100%;margin: 0;padding: 0;}&lt;/style&gt;\n",
              "    &lt;style&gt;#map {position:absolute;top:0;bottom:0;right:0;left:0;}&lt;/style&gt;\n",
              "    &lt;script src=&quot;https://cdn.jsdelivr.net/npm/leaflet@1.9.3/dist/leaflet.js&quot;&gt;&lt;/script&gt;\n",
              "    &lt;script src=&quot;https://code.jquery.com/jquery-3.7.1.min.js&quot;&gt;&lt;/script&gt;\n",
              "    &lt;script src=&quot;https://cdn.jsdelivr.net/npm/bootstrap@5.2.2/dist/js/bootstrap.bundle.min.js&quot;&gt;&lt;/script&gt;\n",
              "    &lt;script src=&quot;https://cdnjs.cloudflare.com/ajax/libs/Leaflet.awesome-markers/2.0.2/leaflet.awesome-markers.js&quot;&gt;&lt;/script&gt;\n",
              "    &lt;link rel=&quot;stylesheet&quot; href=&quot;https://cdn.jsdelivr.net/npm/leaflet@1.9.3/dist/leaflet.css&quot;/&gt;\n",
              "    &lt;link rel=&quot;stylesheet&quot; href=&quot;https://cdn.jsdelivr.net/npm/bootstrap@5.2.2/dist/css/bootstrap.min.css&quot;/&gt;\n",
              "    &lt;link rel=&quot;stylesheet&quot; href=&quot;https://netdna.bootstrapcdn.com/bootstrap/3.0.0/css/bootstrap.min.css&quot;/&gt;\n",
              "    &lt;link rel=&quot;stylesheet&quot; href=&quot;https://cdn.jsdelivr.net/npm/@fortawesome/fontawesome-free@6.2.0/css/all.min.css&quot;/&gt;\n",
              "    &lt;link rel=&quot;stylesheet&quot; href=&quot;https://cdnjs.cloudflare.com/ajax/libs/Leaflet.awesome-markers/2.0.2/leaflet.awesome-markers.css&quot;/&gt;\n",
              "    &lt;link rel=&quot;stylesheet&quot; href=&quot;https://cdn.jsdelivr.net/gh/python-visualization/folium/folium/templates/leaflet.awesome.rotate.min.css&quot;/&gt;\n",
              "    \n",
              "            &lt;meta name=&quot;viewport&quot; content=&quot;width=device-width,\n",
              "                initial-scale=1.0, maximum-scale=1.0, user-scalable=no&quot; /&gt;\n",
              "            &lt;style&gt;\n",
              "                #map_3b0142b9e206b08c71a13f35be17b0de {\n",
              "                    position: relative;\n",
              "                    width: 100.0%;\n",
              "                    height: 100.0%;\n",
              "                    left: 0.0%;\n",
              "                    top: 0.0%;\n",
              "                }\n",
              "                .leaflet-container { font-size: 1rem; }\n",
              "            &lt;/style&gt;\n",
              "        \n",
              "    &lt;script src=&quot;https://cdn.jsdelivr.net/gh/python-visualization/folium@main/folium/templates/leaflet_heat.min.js&quot;&gt;&lt;/script&gt;\n",
              "&lt;/head&gt;\n",
              "&lt;body&gt;\n",
              "    \n",
              "    \n",
              "            &lt;div class=&quot;folium-map&quot; id=&quot;map_3b0142b9e206b08c71a13f35be17b0de&quot; &gt;&lt;/div&gt;\n",
              "        \n",
              "&lt;/body&gt;\n",
              "&lt;script&gt;\n",
              "    \n",
              "    \n",
              "            var map_3b0142b9e206b08c71a13f35be17b0de = L.map(\n",
              "                &quot;map_3b0142b9e206b08c71a13f35be17b0de&quot;,\n",
              "                {\n",
              "                    center: [23.6345, -102.5528],\n",
              "                    crs: L.CRS.EPSG3857,\n",
              "                    zoom: 5,\n",
              "                    zoomControl: true,\n",
              "                    preferCanvas: false,\n",
              "                }\n",
              "            );\n",
              "\n",
              "            \n",
              "\n",
              "        \n",
              "    \n",
              "            var tile_layer_6f258998daf4e05e178f85dc9c823b2a = L.tileLayer(\n",
              "                &quot;https://tile.openstreetmap.org/{z}/{x}/{y}.png&quot;,\n",
              "                {&quot;attribution&quot;: &quot;\\u0026copy; \\u003ca href=\\&quot;https://www.openstreetmap.org/copyright\\&quot;\\u003eOpenStreetMap\\u003c/a\\u003e contributors&quot;, &quot;detectRetina&quot;: false, &quot;maxNativeZoom&quot;: 19, &quot;maxZoom&quot;: 19, &quot;minZoom&quot;: 0, &quot;noWrap&quot;: false, &quot;opacity&quot;: 1, &quot;subdomains&quot;: &quot;abc&quot;, &quot;tms&quot;: false}\n",
              "            );\n",
              "        \n",
              "    \n",
              "            tile_layer_6f258998daf4e05e178f85dc9c823b2a.addTo(map_3b0142b9e206b08c71a13f35be17b0de);\n",
              "        \n",
              "    \n",
              "            var heat_map_468286f28ac31cfa823be7452f12fcda = L.heatLayer(\n",
              "                [[21.97757291961334, -102.38394612242296, 2.0], [30.520855238496132, -115.07942912914432, 0.0], [25.877732444933205, -112.02640171208616, 0.0], [18.82907518347244, -90.30736084222919, 3.0], [16.49079861742077, -92.47573128635311, 7.0], [28.818303774649284, -106.45407999394746, 2.0], [19.237818997766087, -99.08759136627413, 19.0], [27.285353569253445, -102.09652052099382, 1.0], [19.140851537503874, -103.92173393311947, 0.0], [24.90190597292436, -104.98553597994648, 0.0], [20.898353550791654, -101.0371986051402, 0.0], [17.66576725695185, -99.87870800507986, 1.0], [20.483368232533508, -98.85774013982842, 1.0], [20.55774279333335, -103.62772686449061, 5.0], [19.199878786050032, -101.88463025759944, 8.0], [18.732624499901622, -99.0070329859701, 0.0], [19.340460141551407, -99.62728632931811, 0.0], [21.781655927057972, -104.85595821150758, 3.0], [25.580238040610887, -99.99713330501811, 0.0], [16.95564409608874, -96.43862211932218, 6.0], [19.037534846475076, -97.81614027891499, 1.0], [20.840913424948265, -99.87768129146389, 0.0], [19.670401478884255, -88.11847769340048, 3.0], [22.6058425512418, -100.45159987496879, 0.0], [24.992580402339748, -107.49172630518635, 1.0], [29.68374802236036, -110.76155513945164, 2.0], [17.932353054789374, -92.61872938850136, 0.0], [24.30077862687684, -98.67450829679198, 2.0], [19.452612666908163, -98.08348338266966, 0.0], [19.351888556476144, -96.37801777863045, 3.0], [20.77975487977361, -88.92723715445902, 0.0], [23.266402728925556, -102.70883077576353, 0.0]],\n",
              "                {&quot;blur&quot;: 15, &quot;maxZoom&quot;: 18, &quot;minOpacity&quot;: 0.5, &quot;radius&quot;: 25}\n",
              "            );\n",
              "        \n",
              "    \n",
              "            heat_map_468286f28ac31cfa823be7452f12fcda.addTo(map_3b0142b9e206b08c71a13f35be17b0de);\n",
              "        \n",
              "    \n",
              "            tile_layer_6f258998daf4e05e178f85dc9c823b2a.addTo(map_3b0142b9e206b08c71a13f35be17b0de);\n",
              "        \n",
              "    \n",
              "            heat_map_468286f28ac31cfa823be7452f12fcda.addTo(map_3b0142b9e206b08c71a13f35be17b0de);\n",
              "        \n",
              "    \n",
              "            var heat_map_5301983a5235da7d2560c120fed1a8c3 = L.heatLayer(\n",
              "                [[21.97757291961334, -102.38394612242296, 2.0], [30.520855238496132, -115.07942912914432, 0.0], [25.877732444933205, -112.02640171208616, 0.0], [18.82907518347244, -90.30736084222919, 3.0], [16.49079861742077, -92.47573128635311, 7.0], [28.818303774649284, -106.45407999394746, 2.0], [19.237818997766087, -99.08759136627413, 19.0], [27.285353569253445, -102.09652052099382, 1.0], [19.140851537503874, -103.92173393311947, 0.0], [24.90190597292436, -104.98553597994648, 0.0], [20.898353550791654, -101.0371986051402, 0.0], [17.66576725695185, -99.87870800507986, 1.0], [20.483368232533508, -98.85774013982842, 1.0], [20.55774279333335, -103.62772686449061, 5.0], [19.199878786050032, -101.88463025759944, 8.0], [18.732624499901622, -99.0070329859701, 0.0], [19.340460141551407, -99.62728632931811, 0.0], [21.781655927057972, -104.85595821150758, 3.0], [25.580238040610887, -99.99713330501811, 0.0], [16.95564409608874, -96.43862211932218, 6.0], [19.037534846475076, -97.81614027891499, 1.0], [20.840913424948265, -99.87768129146389, 0.0], [19.670401478884255, -88.11847769340048, 3.0], [22.6058425512418, -100.45159987496879, 0.0], [24.992580402339748, -107.49172630518635, 1.0], [29.68374802236036, -110.76155513945164, 2.0], [17.932353054789374, -92.61872938850136, 0.0], [24.30077862687684, -98.67450829679198, 2.0], [19.452612666908163, -98.08348338266966, 0.0], [19.351888556476144, -96.37801777863045, 3.0], [20.77975487977361, -88.92723715445902, 0.0], [23.266402728925556, -102.70883077576353, 0.0]],\n",
              "                {&quot;blur&quot;: 15, &quot;maxZoom&quot;: 18, &quot;minOpacity&quot;: 0.5, &quot;radius&quot;: 25}\n",
              "            );\n",
              "        \n",
              "    \n",
              "            heat_map_5301983a5235da7d2560c120fed1a8c3.addTo(map_3b0142b9e206b08c71a13f35be17b0de);\n",
              "        \n",
              "    \n",
              "            var heat_map_f767539ecf88add66b18426cdeaf99f4 = L.heatLayer(\n",
              "                [[21.97757291961334, -102.38394612242296, 2.0], [30.520855238496132, -115.07942912914432, 0.0], [25.877732444933205, -112.02640171208616, 0.0], [18.82907518347244, -90.30736084222919, 3.0], [16.49079861742077, -92.47573128635311, 7.0], [28.818303774649284, -106.45407999394746, 2.0], [19.237818997766087, -99.08759136627413, 19.0], [27.285353569253445, -102.09652052099382, 1.0], [19.140851537503874, -103.92173393311947, 0.0], [24.90190597292436, -104.98553597994648, 0.0], [20.898353550791654, -101.0371986051402, 0.0], [17.66576725695185, -99.87870800507986, 1.0], [20.483368232533508, -98.85774013982842, 1.0], [20.55774279333335, -103.62772686449061, 5.0], [19.199878786050032, -101.88463025759944, 8.0], [18.732624499901622, -99.0070329859701, 0.0], [19.340460141551407, -99.62728632931811, 0.0], [21.781655927057972, -104.85595821150758, 3.0], [25.580238040610887, -99.99713330501811, 0.0], [16.95564409608874, -96.43862211932218, 6.0], [19.037534846475076, -97.81614027891499, 1.0], [20.840913424948265, -99.87768129146389, 0.0], [19.670401478884255, -88.11847769340048, 3.0], [22.6058425512418, -100.45159987496879, 0.0], [24.992580402339748, -107.49172630518635, 1.0], [29.68374802236036, -110.76155513945164, 2.0], [17.932353054789374, -92.61872938850136, 0.0], [24.30077862687684, -98.67450829679198, 2.0], [19.452612666908163, -98.08348338266966, 0.0], [19.351888556476144, -96.37801777863045, 3.0], [20.77975487977361, -88.92723715445902, 0.0], [23.266402728925556, -102.70883077576353, 0.0]],\n",
              "                {&quot;blur&quot;: 15, &quot;maxZoom&quot;: 18, &quot;minOpacity&quot;: 0.5, &quot;radius&quot;: 25}\n",
              "            );\n",
              "        \n",
              "    \n",
              "            heat_map_f767539ecf88add66b18426cdeaf99f4.addTo(map_3b0142b9e206b08c71a13f35be17b0de);\n",
              "        \n",
              "&lt;/script&gt;\n",
              "&lt;/html&gt;\" style=\"position:absolute;width:100%;height:100%;left:0;top:0;border:none !important;\" allowfullscreen webkitallowfullscreen mozallowfullscreen></iframe></div></div>"
            ],
            "text/plain": [
              "<folium.folium.Map at 0x7bd8da2c9640>"
            ]
          },
          "execution_count": 10,
          "metadata": {},
          "output_type": "execute_result"
        }
      ],
      "source": [
        "\n",
        "heat_data=sub.groupby([\"Entidad\" ,\"Tipo de delito\", \"Subtipo de delito\", \"Modalidad\", \"geometry\"]).agg({\"Total\":\"sum\"}).reset_index()\n",
        "\n",
        "eat_data = heat_data.apply(lambda x: [x.geometry.centroid.y, x.geometry.centroid.x, x['Total']], axis=1).tolist()\n",
        "HeatMap(eat_data).add_to(mapa_mexico)\n",
        "mapa_mexico"
      ]
    },
    {
      "cell_type": "code",
      "execution_count": null,
      "metadata": {},
      "outputs": [],
      "source": []
    }
  ],
  "metadata": {
    "colab": {
      "provenance": []
    },
    "kernelspec": {
      "display_name": "Python 3",
      "name": "python3"
    },
    "language_info": {
      "codemirror_mode": {
        "name": "ipython",
        "version": 3
      },
      "file_extension": ".py",
      "mimetype": "text/x-python",
      "name": "python",
      "nbconvert_exporter": "python",
      "pygments_lexer": "ipython3",
      "version": "3.12.3"
    }
  },
  "nbformat": 4,
  "nbformat_minor": 0
}
