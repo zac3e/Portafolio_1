{
  "nbformat": 4,
  "nbformat_minor": 0,
  "metadata": {
    "colab": {
      "provenance": [],
      "authorship_tag": "ABX9TyOqmye5lrmEmo57DsIHjUdf"
    },
    "kernelspec": {
      "name": "python3",
      "display_name": "Python 3"
    },
    "language_info": {
      "name": "python"
    }
  },
  "cells": [
    {
      "cell_type": "code",
      "execution_count": null,
      "metadata": {
        "id": "hrC0dZNxmdB6"
      },
      "outputs": [],
      "source": [
        "!pip install jupyterthemes\n",
        "import gzip\n",
        "import os\n",
        "from os.path import isfile, join\n",
        "import numpy as np\n",
        "from google.colab import files\n",
        "import matplotlib.pyplot as plt\n",
        "%matplotlib inline\n",
        "from jupyterthemes import jtplot\n",
        "jtplot.style(grid=False)"
      ]
    },
    {
      "cell_type": "code",
      "source": [
        "uploaded = files.upload()"
      ],
      "metadata": {
        "colab": {
          "base_uri": "https://localhost:8080/",
          "height": 180
        },
        "id": "ANidPDLUtjEg",
        "outputId": "7c594bbc-a71d-4c9b-cfbc-3c24d1249833"
      },
      "execution_count": 2,
      "outputs": [
        {
          "output_type": "display_data",
          "data": {
            "text/plain": [
              "<IPython.core.display.HTML object>"
            ],
            "text/html": [
              "\n",
              "     <input type=\"file\" id=\"files-96e9eac8-842a-46ff-a857-e0bdad08d129\" name=\"files[]\" multiple disabled\n",
              "        style=\"border:none\" />\n",
              "     <output id=\"result-96e9eac8-842a-46ff-a857-e0bdad08d129\">\n",
              "      Upload widget is only available when the cell has been executed in the\n",
              "      current browser session. Please rerun this cell to enable.\n",
              "      </output>\n",
              "      <script>// Copyright 2017 Google LLC\n",
              "//\n",
              "// Licensed under the Apache License, Version 2.0 (the \"License\");\n",
              "// you may not use this file except in compliance with the License.\n",
              "// You may obtain a copy of the License at\n",
              "//\n",
              "//      http://www.apache.org/licenses/LICENSE-2.0\n",
              "//\n",
              "// Unless required by applicable law or agreed to in writing, software\n",
              "// distributed under the License is distributed on an \"AS IS\" BASIS,\n",
              "// WITHOUT WARRANTIES OR CONDITIONS OF ANY KIND, either express or implied.\n",
              "// See the License for the specific language governing permissions and\n",
              "// limitations under the License.\n",
              "\n",
              "/**\n",
              " * @fileoverview Helpers for google.colab Python module.\n",
              " */\n",
              "(function(scope) {\n",
              "function span(text, styleAttributes = {}) {\n",
              "  const element = document.createElement('span');\n",
              "  element.textContent = text;\n",
              "  for (const key of Object.keys(styleAttributes)) {\n",
              "    element.style[key] = styleAttributes[key];\n",
              "  }\n",
              "  return element;\n",
              "}\n",
              "\n",
              "// Max number of bytes which will be uploaded at a time.\n",
              "const MAX_PAYLOAD_SIZE = 100 * 1024;\n",
              "\n",
              "function _uploadFiles(inputId, outputId) {\n",
              "  const steps = uploadFilesStep(inputId, outputId);\n",
              "  const outputElement = document.getElementById(outputId);\n",
              "  // Cache steps on the outputElement to make it available for the next call\n",
              "  // to uploadFilesContinue from Python.\n",
              "  outputElement.steps = steps;\n",
              "\n",
              "  return _uploadFilesContinue(outputId);\n",
              "}\n",
              "\n",
              "// This is roughly an async generator (not supported in the browser yet),\n",
              "// where there are multiple asynchronous steps and the Python side is going\n",
              "// to poll for completion of each step.\n",
              "// This uses a Promise to block the python side on completion of each step,\n",
              "// then passes the result of the previous step as the input to the next step.\n",
              "function _uploadFilesContinue(outputId) {\n",
              "  const outputElement = document.getElementById(outputId);\n",
              "  const steps = outputElement.steps;\n",
              "\n",
              "  const next = steps.next(outputElement.lastPromiseValue);\n",
              "  return Promise.resolve(next.value.promise).then((value) => {\n",
              "    // Cache the last promise value to make it available to the next\n",
              "    // step of the generator.\n",
              "    outputElement.lastPromiseValue = value;\n",
              "    return next.value.response;\n",
              "  });\n",
              "}\n",
              "\n",
              "/**\n",
              " * Generator function which is called between each async step of the upload\n",
              " * process.\n",
              " * @param {string} inputId Element ID of the input file picker element.\n",
              " * @param {string} outputId Element ID of the output display.\n",
              " * @return {!Iterable<!Object>} Iterable of next steps.\n",
              " */\n",
              "function* uploadFilesStep(inputId, outputId) {\n",
              "  const inputElement = document.getElementById(inputId);\n",
              "  inputElement.disabled = false;\n",
              "\n",
              "  const outputElement = document.getElementById(outputId);\n",
              "  outputElement.innerHTML = '';\n",
              "\n",
              "  const pickedPromise = new Promise((resolve) => {\n",
              "    inputElement.addEventListener('change', (e) => {\n",
              "      resolve(e.target.files);\n",
              "    });\n",
              "  });\n",
              "\n",
              "  const cancel = document.createElement('button');\n",
              "  inputElement.parentElement.appendChild(cancel);\n",
              "  cancel.textContent = 'Cancel upload';\n",
              "  const cancelPromise = new Promise((resolve) => {\n",
              "    cancel.onclick = () => {\n",
              "      resolve(null);\n",
              "    };\n",
              "  });\n",
              "\n",
              "  // Wait for the user to pick the files.\n",
              "  const files = yield {\n",
              "    promise: Promise.race([pickedPromise, cancelPromise]),\n",
              "    response: {\n",
              "      action: 'starting',\n",
              "    }\n",
              "  };\n",
              "\n",
              "  cancel.remove();\n",
              "\n",
              "  // Disable the input element since further picks are not allowed.\n",
              "  inputElement.disabled = true;\n",
              "\n",
              "  if (!files) {\n",
              "    return {\n",
              "      response: {\n",
              "        action: 'complete',\n",
              "      }\n",
              "    };\n",
              "  }\n",
              "\n",
              "  for (const file of files) {\n",
              "    const li = document.createElement('li');\n",
              "    li.append(span(file.name, {fontWeight: 'bold'}));\n",
              "    li.append(span(\n",
              "        `(${file.type || 'n/a'}) - ${file.size} bytes, ` +\n",
              "        `last modified: ${\n",
              "            file.lastModifiedDate ? file.lastModifiedDate.toLocaleDateString() :\n",
              "                                    'n/a'} - `));\n",
              "    const percent = span('0% done');\n",
              "    li.appendChild(percent);\n",
              "\n",
              "    outputElement.appendChild(li);\n",
              "\n",
              "    const fileDataPromise = new Promise((resolve) => {\n",
              "      const reader = new FileReader();\n",
              "      reader.onload = (e) => {\n",
              "        resolve(e.target.result);\n",
              "      };\n",
              "      reader.readAsArrayBuffer(file);\n",
              "    });\n",
              "    // Wait for the data to be ready.\n",
              "    let fileData = yield {\n",
              "      promise: fileDataPromise,\n",
              "      response: {\n",
              "        action: 'continue',\n",
              "      }\n",
              "    };\n",
              "\n",
              "    // Use a chunked sending to avoid message size limits. See b/62115660.\n",
              "    let position = 0;\n",
              "    do {\n",
              "      const length = Math.min(fileData.byteLength - position, MAX_PAYLOAD_SIZE);\n",
              "      const chunk = new Uint8Array(fileData, position, length);\n",
              "      position += length;\n",
              "\n",
              "      const base64 = btoa(String.fromCharCode.apply(null, chunk));\n",
              "      yield {\n",
              "        response: {\n",
              "          action: 'append',\n",
              "          file: file.name,\n",
              "          data: base64,\n",
              "        },\n",
              "      };\n",
              "\n",
              "      let percentDone = fileData.byteLength === 0 ?\n",
              "          100 :\n",
              "          Math.round((position / fileData.byteLength) * 100);\n",
              "      percent.textContent = `${percentDone}% done`;\n",
              "\n",
              "    } while (position < fileData.byteLength);\n",
              "  }\n",
              "\n",
              "  // All done.\n",
              "  yield {\n",
              "    response: {\n",
              "      action: 'complete',\n",
              "    }\n",
              "  };\n",
              "}\n",
              "\n",
              "scope.google = scope.google || {};\n",
              "scope.google.colab = scope.google.colab || {};\n",
              "scope.google.colab._files = {\n",
              "  _uploadFiles,\n",
              "  _uploadFilesContinue,\n",
              "};\n",
              "})(self);\n",
              "</script> "
            ]
          },
          "metadata": {}
        },
        {
          "output_type": "stream",
          "name": "stdout",
          "text": [
            "Saving t10k-images.idx3-ubyte to t10k-images.idx3-ubyte\n",
            "Saving t10k-labels.idx1-ubyte to t10k-labels.idx1-ubyte\n",
            "Saving train-images.idx3-ubyte to train-images.idx3-ubyte\n",
            "Saving train-labels.idx1-ubyte to train-labels.idx1-ubyte\n"
          ]
        }
      ]
    },
    {
      "cell_type": "code",
      "source": [
        "def list_file(path_data):\n",
        "   return [join(path_data, i) for i in os.listdir(path_data) if isfile(join(path_data, i))]"
      ],
      "metadata": {
        "id": "KO3ZqXy7opLc"
      },
      "execution_count": 3,
      "outputs": []
    },
    {
      "cell_type": "code",
      "source": [
        "def get_images(path_data):\n",
        "    for f in list_file(path_data):\n",
        "        if 'train-images' in f:\n",
        "            with open(f, 'rb') as data:\n",
        "                _ = int.from_bytes(data.read(4), 'big')\n",
        "                num_images = int.from_bytes(data.read(4), 'big')\n",
        "                rows = int.from_bytes(data.read(4), 'big') #No se te olvide wey que se va recprriendo el apuntador de 4 en 4\n",
        "                cols = int.from_bytes(data.read(4), 'big')\n",
        "                train_images = data.read()\n",
        "                x_train = np.frombuffer(train_images, dtype=np.uint8)\n",
        "                x_train = x_train.reshape((num_images, rows, cols))\n",
        "        elif 'train-labels' in f:\n",
        "            with open(f, 'rb') as data:\n",
        "                train_labels = data.read()[8:]\n",
        "                y_train = np.frombuffer(train_labels, dtype=np.uint8)\n",
        "        if 't10k-images' in f:\n",
        "            with open(f, 'rb') as data:\n",
        "                _ = int.from_bytes(data.read(4), 'big')\n",
        "                num_images = int.from_bytes(data.read(4), 'big')\n",
        "                rows = int.from_bytes(data.read(4), 'big')\n",
        "                cols = int.from_bytes(data.read(4), 'big')\n",
        "                test_images = data.read()\n",
        "                x_test = np.frombuffer(test_images, dtype=np.uint8)\n",
        "                x_test = x_test.reshape((num_images, rows, cols))\n",
        "        elif 't10k-labels' in f:\n",
        "            with open(f, 'rb') as data:\n",
        "                test_labels = data.read()[8:]\n",
        "                y_test = np.frombuffer(test_labels, dtype=np.uint8)\n",
        "\n",
        "    return x_train, y_train, x_test, y_test"
      ],
      "metadata": {
        "id": "7oNy1CO48oNB"
      },
      "execution_count": 4,
      "outputs": []
    },
    {
      "cell_type": "code",
      "source": [
        "ruta_directorio = \"/content/\"\n",
        "x_train_1, y_train_1, x_test_1, y_test_1 = get_images(ruta_directorio)"
      ],
      "metadata": {
        "id": "UXkeBXsxBNff"
      },
      "execution_count": 5,
      "outputs": []
    },
    {
      "cell_type": "code",
      "source": [
        "x_train_1.shape"
      ],
      "metadata": {
        "colab": {
          "base_uri": "https://localhost:8080/"
        },
        "id": "4y6MjcQ0ByNw",
        "outputId": "0b445576-e263-40cf-b246-a07e777e8f4d"
      },
      "execution_count": 6,
      "outputs": [
        {
          "output_type": "execute_result",
          "data": {
            "text/plain": [
              "(60000, 28, 28)"
            ]
          },
          "metadata": {},
          "execution_count": 6
        }
      ]
    },
    {
      "cell_type": "code",
      "source": [
        "x_train=x_train_1[:50000].reshape(50000,-1).astype(np.float32)/255 #Debe de tener dimensiones de (50000, 784)\n",
        "y_train=y_train_1[:50000].reshape(50000,1) #Debe de tener dimensiones de (50000, 1)\n",
        "\n",
        "x_val=x_train_1[50000:].reshape(10000,-1).astype(np.float32)/255 #Estas madres igual sus respectivas dimensiones\n",
        "y_val=y_train_1[50000:].reshape(10000,1)\n",
        "\n",
        "x_test=x_train_1[50000:].reshape(10000,-1).astype(np.float32)/255  #Estas madres tambien\n",
        "y_test=y_train_1[50000:].reshape(10000,1)"
      ],
      "metadata": {
        "id": "2163JrlUKbcu"
      },
      "execution_count": 7,
      "outputs": []
    },
    {
      "cell_type": "code",
      "source": [
        "x_val.shape"
      ],
      "metadata": {
        "colab": {
          "base_uri": "https://localhost:8080/"
        },
        "id": "kBRt-lYqM--Z",
        "outputId": "80addcb3-cdeb-48e2-8210-7591c03182d0"
      },
      "execution_count": 8,
      "outputs": [
        {
          "output_type": "execute_result",
          "data": {
            "text/plain": [
              "(10000, 784)"
            ]
          },
          "metadata": {},
          "execution_count": 8
        }
      ]
    },
    {
      "cell_type": "code",
      "source": [
        "def plt_num(imagen):\n",
        "  plt.imshow(imagen.squeeze(), cmap=plt.get_cmap(\"gray\"))\n",
        "  plt.axis(\"off\")\n",
        "  plt.show"
      ],
      "metadata": {
        "id": "FkqfkAc0NAr5"
      },
      "execution_count": 9,
      "outputs": []
    },
    {
      "cell_type": "code",
      "source": [
        "num_ima=np.random.randint(len(y_test))\n",
        "print(\"La imagen contien es numero:\"+\" \"+str(y_test_1[num_ima]))\n",
        "plt_num(x_test_1[num_ima])"
      ],
      "metadata": {
        "colab": {
          "base_uri": "https://localhost:8080/",
          "height": 486
        },
        "id": "JFtswYE8Sp5H",
        "outputId": "17387ebf-0fbb-43f3-a519-c813c1373a5a"
      },
      "execution_count": 10,
      "outputs": [
        {
          "output_type": "stream",
          "name": "stdout",
          "text": [
            "La imagen contien es numero: 3\n"
          ]
        },
        {
          "output_type": "display_data",
          "data": {
            "text/plain": [
              "<Figure size 640x560 with 1 Axes>"
            ],
            "image/png": "[encoded data removed]"
          },
          "metadata": {}
        }
      ]
    },
    {
      "cell_type": "markdown",
      "source": [
        "##Recuerda el modelo de las redes: z sale de las neuronas, aplicamos la función de activación, este paso se repite dependiendo de las capas internas, despues aplicamos la funcion de \"probabilidad normalizadora\" y por ultimo aplicamos y minimizamos la funcion de perdida.\n"
      ],
      "metadata": {
        "id": "cqH3LcR2Zn5l"
      }
    },
    {
      "cell_type": "markdown",
      "source": [
        "![Captura de pantalla (10).png](data:image/png;base64,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)\n",
        "\n"
      ],
      "metadata": {
        "id": "_yVmteu-Yrey"
      }
    },
    {
      "cell_type": "markdown",
      "source": [
        "##Cada imagen que entra en las neuronas receptoras tendra que ser convertida a un vector con 784 elementos."
      ],
      "metadata": {
        "id": "vtwVSG96Wmd8"
      }
    },
    {
      "cell_type": "code",
      "source": [
        "def miniconjuntos(size, x, y, shuffle = True): #Cremos pequeños conjuntos porque esta cabron meter 50000 de golpe\n",
        "    assert x.shape[0] == y.shape[0], \"Algo esta mal we\"\n",
        "    total_data = x.shape[0]\n",
        "    if shuffle:\n",
        "        idxs = np.arange(total_data)\n",
        "        np.random.shuffle(idxs)\n",
        "        x = x[idxs]\n",
        "        y = y[idxs]\n",
        "\n",
        "    return ((x[i:i+size], y[i:i+size]) for i in range(0, total_data, size))"
      ],
      "metadata": {
        "id": "yvSfZTPVbpUr"
      },
      "execution_count": 11,
      "outputs": []
    },
    {
      "cell_type": "code",
      "source": [
        "def ini_param(Entrada, neuronas): #Entrada será el numero de neuronas de entrada, y neuronas una lista del numero de neuronas\n",
        "# de cada capa en este caso [200, 10] en la primera capa 200 neuronas y en la segunda capa 10 neuronas\n",
        "#iniciamos los parámetros de los coeficientes de cada conexión de sinapsis y el bais de salida. Al ser dos capas ocupamos dos matrices de coeficientes de sinapsis.\n",
        "  w_1=np.random.randn(neuronas[0], Entrada) * 0.001\n",
        "  b_1=np.zeros((neuronas[0], 1))\n",
        "\n",
        "  w_2=np.random.randn(neuronas[1], neuronas[0]) * 0.001\n",
        "  b_2=np.zeros((neuronas[1], 1))\n",
        "  return {'W1': w_1, 'b1':b_1, 'W2':w_2, 'b2':b_2}\n"
      ],
      "metadata": {
        "id": "zWT36806jZto"
      },
      "execution_count": 12,
      "outputs": []
    },
    {
      "cell_type": "code",
      "source": [
        "def Relu(x): #Función de activación\n",
        "  return np.maximum(0,x)\n",
        "\n",
        "def scores(x, parametros, f_activacion): # Modelo lineal de salida de cada neurona\n",
        "\n",
        "  z_1= parametros[\"W1\"] @ x + parametros[\"b1\"]\n",
        "  a_1 =f_activacion(z_1)\n",
        "  z_2= parametros[\"W2\"] @ a_1 + parametros[\"b2\"]\n",
        "\n",
        "  return z_2, z_1, a_1\n",
        "\n",
        "def sofmax(x): #Función de probabilidad y normalización\n",
        "  proba=np.exp(x)/np.sum(np.exp(x), axis =0)\n",
        "  return proba"
      ],
      "metadata": {
        "id": "Vt7Z1fTWTHbT"
      },
      "execution_count": 92,
      "outputs": []
    },
    {
      "cell_type": "code",
      "source": [
        "parametros=ini_param(28*28, [200,10])\n",
        "parametros[\"W2\"].shape"
      ],
      "metadata": {
        "id": "41Yzqr1DSXMV",
        "colab": {
          "base_uri": "https://localhost:8080/"
        },
        "outputId": "cf9a8e22-aacc-4722-8623-7bc216abd1d7"
      },
      "execution_count": 93,
      "outputs": [
        {
          "output_type": "execute_result",
          "data": {
            "text/plain": [
              "(10, 200)"
            ]
          },
          "metadata": {},
          "execution_count": 93
        }
      ]
    },
    {
      "cell_type": "code",
      "source": [
        "z_2, z_1, a_1=scores(x_train[:64].T, parametros, Relu)"
      ],
      "metadata": {
        "id": "gjYhYnBgXKqv"
      },
      "execution_count": 95,
      "outputs": []
    },
    {
      "cell_type": "code",
      "source": [
        "def x_entropy(score, y, batch_size=64): #juntamos la función sofmax y calculamos la función de perdida para minimizarla y asi poder modificar nuestros coeficientes\n",
        "  proba=sofmax(score) # de sinapsis y el bais\n",
        "  y_hat=proba[y.squeeze(), np.arange(batch_size)]\n",
        "  costo= np.sum(-np.log(y_hat))/batch_size\n",
        "  return proba, costo"
      ],
      "metadata": {
        "id": "jI3hGxYVco6o"
      },
      "execution_count": 96,
      "outputs": []
    },
    {
      "cell_type": "code",
      "source": [
        "def backward(probs, x, y, z1, a1, parameters, batch_size=64): #Minimizamos la funcion de costos, pero para obtener nuevos coeficientes tenemos que retropropagar el\n",
        "    grads = {} # gradiente y usamos una regla de la cadena para cada coeficiente que queremos minimizar\n",
        "    probs[y.squeeze(), np.arange(batch_size)] -= 1 # y-hat - y\n",
        "    dz2 = probs.copy()\n",
        "\n",
        "    dW2 = dz2 @ a1.T / batch_size\n",
        "    db2 = np.sum(dz2, axis =1, keepdims=True) / batch_size\n",
        "    da1 = parameters['W2'].T @ dz2\n",
        "\n",
        "    dz1 = da1.copy()\n",
        "    dz1[z1 <= 0 ] =0\n",
        "\n",
        "    dW1 = dz1 @ x\n",
        "    db1 = np.sum(dz1, axis=1, keepdims=True)\n",
        "\n",
        "    assert parameters['W1'].shape == dW1.shape, 'W1 no igual forma'\n",
        "    assert parameters['W2'].shape == dW2.shape, 'W2 no igual forma'\n",
        "    assert parameters['b1'].shape == db1.shape, 'b1 no igual forma'\n",
        "    assert parameters['b2'].shape == db2.shape, 'b2 no igual forma'\n",
        "\n",
        "    grads = {'w1':dW1,  'b1':db1, 'W2':dW2, 'b2':db2} #Son los valores del gradiente en cada variable en el diccionario\n",
        "\n",
        "    return grads"
      ],
      "metadata": {
        "id": "-oeNq0wkfuYq"
      },
      "execution_count": 104,
      "outputs": []
    },
    {
      "cell_type": "code",
      "source": [
        "y_hat, cost =x_entropy(z_2, y_train[:64])"
      ],
      "metadata": {
        "id": "MGqRICZEk2vs"
      },
      "execution_count": 98,
      "outputs": []
    },
    {
      "cell_type": "code",
      "source": [
        "y_hat.shape"
      ],
      "metadata": {
        "colab": {
          "base_uri": "https://localhost:8080/"
        },
        "id": "cSBZEpghJKW4",
        "outputId": "8c01e9fc-78fc-4807-b6b3-e69d9b560308"
      },
      "execution_count": 99,
      "outputs": [
        {
          "output_type": "execute_result",
          "data": {
            "text/plain": [
              "(10, 64)"
            ]
          },
          "metadata": {},
          "execution_count": 99
        }
      ]
    },
    {
      "cell_type": "code",
      "source": [
        "grads = backward(y_hat, x_train[:64], y_train[:64], z_1, a_1, parametros)"
      ],
      "metadata": {
        "id": "dLDjA9kaJcgs"
      },
      "execution_count": 100,
      "outputs": []
    },
    {
      "cell_type": "code",
      "source": [
        "def accuracy(x_data, y_data , mb_size=64):\n",
        "  Correct=0\n",
        "  total=0\n",
        "  for i, (x,y) in enumerate(miniconjuntos(mb_size, x_data, y_data)):\n",
        "      z_2, z_1, a_1=scores(x.T, parametros, Relu)\n",
        "      y_hat, cost =x_entropy(z_2, y, batch_size=len(x))\n",
        "\n",
        "      Correct += np.sum(np.argmax(y_hat, axis=0)==y.squeeze())\n",
        "      total += y_hat.shape[1]\n",
        "\n",
        "  return Correct/total"
      ],
      "metadata": {
        "id": "dOm7FcFMJ8Dz"
      },
      "execution_count": 107,
      "outputs": []
    },
    {
      "cell_type": "code",
      "source": [
        "def train(epochs, parameters, mb_size=64, learning_rate = 1e-3):\n",
        "    for epoch in range(epochs):\n",
        "        for i, (x, y) in enumerate(miniconjuntos(mb_size, x_train, y_train)):\n",
        "            z_2, z1, a1 = scores(x.T, parametros=parametros, f_activacion=Relu)\n",
        "            y_hat, cost = x_entropy(z_2, y, batch_size=len(x))\n",
        "            grads = backward(y_hat, x, y, z1, a1, parameters, batch_size=len(x))\n",
        "\n",
        "            parameters['W1'] = parameters['W1'] - learning_rate*grads['w1']\n",
        "            parameters['b1'] = parameters['b1'] - learning_rate*grads['b1']\n",
        "            parameters['b2'] = parameters['b2'] - learning_rate*grads['b2']\n",
        "            parameters['W2'] = parameters['W2'] - learning_rate*grads['W2']\n",
        "\n",
        "        print(f'costo es: {cost}, y accuracy: {accuracy(x_val, y_val, mb_size)}')\n",
        "    return parameters\n",
        ""
      ],
      "metadata": {
        "id": "J4YampIJKSue"
      },
      "execution_count": 108,
      "outputs": []
    },
    {
      "cell_type": "code",
      "source": [
        "mb_size = 512\n",
        "learning_rate = 1e-3\n",
        "epochs = 50\n",
        "parameters = train(epochs=epochs, parameters=parametros, mb_size=mb_size, learning_rate=learning_rate)"
      ],
      "metadata": {
        "colab": {
          "base_uri": "https://localhost:8080/"
        },
        "id": "Pt0matQxj0R2",
        "outputId": "7eae50b2-3890-4c70-d5f6-6d4539aefdd7"
      },
      "execution_count": 174,
      "outputs": [
        {
          "output_type": "stream",
          "name": "stdout",
          "text": [
            "costo es: 0.06414881119428197, y accuracy: 0.9639\n",
            "costo es: 0.1386578144272183, y accuracy: 0.9641\n",
            "costo es: 0.1099759818020532, y accuracy: 0.9632\n",
            "costo es: 0.1129755530387969, y accuracy: 0.9635\n",
            "costo es: 0.05629973628778335, y accuracy: 0.9638\n",
            "costo es: 0.061331823578256985, y accuracy: 0.9636\n",
            "costo es: 0.0723742863569952, y accuracy: 0.9639\n",
            "costo es: 0.0692075283255131, y accuracy: 0.9638\n",
            "costo es: 0.061757374466892875, y accuracy: 0.9639\n",
            "costo es: 0.10369852296533986, y accuracy: 0.9636\n",
            "costo es: 0.05103828190193876, y accuracy: 0.9635\n",
            "costo es: 0.112280020514914, y accuracy: 0.9636\n",
            "costo es: 0.03630424692637865, y accuracy: 0.9639\n",
            "costo es: 0.08152410911333709, y accuracy: 0.9638\n",
            "costo es: 0.07661848617217729, y accuracy: 0.9636\n",
            "costo es: 0.08250592116035559, y accuracy: 0.9636\n",
            "costo es: 0.07903659293539349, y accuracy: 0.9639\n",
            "costo es: 0.07414342359365463, y accuracy: 0.964\n",
            "costo es: 0.03396799757497279, y accuracy: 0.9635\n",
            "costo es: 0.08703467478711155, y accuracy: 0.9633\n",
            "costo es: 0.07866242998956145, y accuracy: 0.9635\n",
            "costo es: 0.0875316190658857, y accuracy: 0.9636\n",
            "costo es: 0.08888307998507679, y accuracy: 0.9634\n",
            "costo es: 0.1292940371701324, y accuracy: 0.9636\n",
            "costo es: 0.06264783282756237, y accuracy: 0.9638\n",
            "costo es: 0.093347647388244, y accuracy: 0.9636\n",
            "costo es: 0.06397100697953098, y accuracy: 0.9635\n",
            "costo es: 0.0951995240942052, y accuracy: 0.9638\n",
            "costo es: 0.07706827038186688, y accuracy: 0.9637\n",
            "costo es: 0.13283839379083437, y accuracy: 0.9636\n",
            "costo es: 0.06018336897497031, y accuracy: 0.9635\n",
            "costo es: 0.06152986973844031, y accuracy: 0.9635\n",
            "costo es: 0.11575785008482183, y accuracy: 0.9637\n",
            "costo es: 0.06438473789974963, y accuracy: 0.9635\n",
            "costo es: 0.056004340392328794, y accuracy: 0.9637\n",
            "costo es: 0.06348821557996862, y accuracy: 0.9633\n",
            "costo es: 0.06874354728593894, y accuracy: 0.963\n",
            "costo es: 0.05423730472027207, y accuracy: 0.9638\n",
            "costo es: 0.09834531915604276, y accuracy: 0.9634\n",
            "costo es: 0.1058860044382983, y accuracy: 0.9637\n",
            "costo es: 0.0743580875598205, y accuracy: 0.9635\n",
            "costo es: 0.07422955338969997, y accuracy: 0.9639\n",
            "costo es: 0.0932971951902824, y accuracy: 0.9635\n",
            "costo es: 0.054699438280814035, y accuracy: 0.9636\n",
            "costo es: 0.07401130743357617, y accuracy: 0.9637\n",
            "costo es: 0.051136054410141574, y accuracy: 0.9637\n",
            "costo es: 0.13184569473727195, y accuracy: 0.9642\n",
            "costo es: 0.06531194861243339, y accuracy: 0.9632\n",
            "costo es: 0.07307511643485706, y accuracy: 0.9635\n",
            "costo es: 0.1086838241368565, y accuracy: 0.9631\n"
          ]
        }
      ]
    },
    {
      "cell_type": "code",
      "source": [
        "accuracy(x_train, y_train, mb_size)"
      ],
      "metadata": {
        "colab": {
          "base_uri": "https://localhost:8080/"
        },
        "id": "x_Jfxrq5ktLG",
        "outputId": "3a8c54c7-6bef-4bcc-84a2-697fb12c3f35"
      },
      "execution_count": 175,
      "outputs": [
        {
          "output_type": "execute_result",
          "data": {
            "text/plain": [
              "0.97842"
            ]
          },
          "metadata": {},
          "execution_count": 175
        }
      ]
    },
    {
      "cell_type": "code",
      "source": [
        "accuracy(x_test, y_test, mb_size)"
      ],
      "metadata": {
        "colab": {
          "base_uri": "https://localhost:8080/"
        },
        "id": "VaVEaHhak2oP",
        "outputId": "b45ccd04-053e-4a9f-c559-6c93ca0c7ce1"
      },
      "execution_count": 176,
      "outputs": [
        {
          "output_type": "execute_result",
          "data": {
            "text/plain": [
              "0.9631"
            ]
          },
          "metadata": {},
          "execution_count": 176
        }
      ]
    },
    {
      "cell_type": "code",
      "source": [
        "def predict(x):\n",
        "    scores2, _, _ = scores(x, parametros, Relu)\n",
        "    return np.argmax(scores2)"
      ],
      "metadata": {
        "id": "cbj-zD9Lk79k"
      },
      "execution_count": 177,
      "outputs": []
    },
    {
      "cell_type": "code",
      "source": [
        "x_test[0].reshape(-1, 1).shape"
      ],
      "metadata": {
        "colab": {
          "base_uri": "https://localhost:8080/"
        },
        "id": "dHQ9ipcGlC-6",
        "outputId": "0934a78e-051e-42fc-be7a-05425667bcd2"
      },
      "execution_count": 178,
      "outputs": [
        {
          "output_type": "execute_result",
          "data": {
            "text/plain": [
              "(784, 1)"
            ]
          },
          "metadata": {},
          "execution_count": 178
        }
      ]
    },
    {
      "cell_type": "code",
      "source": [
        "idx = np.random.randint(len(y_test))\n",
        "plt_num(x_test_1[idx])\n",
        "pred = predict(x_test[idx].reshape(-1, 1))\n",
        "print(f'el valor predicho es: {pred}')"
      ],
      "metadata": {
        "colab": {
          "base_uri": "https://localhost:8080/",
          "height": 486
        },
        "id": "Wcy8Kx-lk8kQ",
        "outputId": "27de5a52-3ec7-414d-90fb-cd29245ff427"
      },
      "execution_count": 182,
      "outputs": [
        {
          "output_type": "stream",
          "name": "stdout",
          "text": [
            "el valor predicho es: 1\n"
          ]
        },
        {
          "output_type": "display_data",
          "data": {
            "text/plain": [
              "<Figure size 640x560 with 1 Axes>"
            ],
            "image/png": "[encoded data removed]"
          },
          "metadata": {}
        }
      ]
    },
    {
      "cell_type": "code",
      "source": [],
      "metadata": {
        "id": "yHuHskYxlAvQ"
      },
      "execution_count": 147,
      "outputs": []
    }
  ]
}