{
  "nbformat": 4,
  "nbformat_minor": 0,
  "metadata": {
    "colab": {
      "provenance": [],
      "authorship_tag": "ABX9TyOFRQMfVE5ETfdPJMDupeIe"
    },
    "kernelspec": {
      "name": "python3",
      "display_name": "Python 3"
    },
    "language_info": {
      "name": "python"
    }
  },
  "cells": [
    {
      "cell_type": "code",
      "execution_count": null,
      "metadata": {
        "id": "sWtPvga3OJn0"
      },
      "outputs": [],
      "source": [
        "!pip install -U -q kaggle\n",
        "!mkdir -p ~/.kaggle\n",
        "from google.colab import files\n",
        "files.upload()"
      ]
    },
    {
      "cell_type": "code",
      "source": [
        "!cp kaggle.json ~/.kaggle/\n",
        "!kaggle datasets download -d aunanya875/suicidal-tweet-detection-dataset\n",
        "!chmod 600 /root/.kaggle/kaggle.json"
      ],
      "metadata": {
        "id": "JRv2SJ-r-3oU"
      },
      "execution_count": null,
      "outputs": []
    },
    {
      "cell_type": "markdown",
      "source": [
        "###El proposito de este programa es usar el modelo de ML de naive bayes para poder crear un modelo de prediccion de la potencialidad de comerter suicidio basado en los tweets. El modelo usa la base de datos que a continuación se describe.\n",
        "\n",
        "###Este conjunto de datos proporciona una colección de tweets junto con una anotación que indica si cada tweet está relacionado con el suicidio o no. El objetivo principal de este conjunto de datos es facilitar el desarrollo y la evaluación de modelos de aprendizaje automático para la clasificación de tweets que expresan sentimientos suicidas o no.\n",
        "\n",
        "###Columnas:\n",
        "\n",
        "###Tweet: Esta columna contiene el contenido textual de los tweets obtenidos de diversas fuentes. Los tweets cubren una amplia gama de temas, emociones y expresiones.\n",
        "###Suicidio: Esta columna proporciona anotaciones que indican la clasificación de los tweets. Los valores posibles son:\n",
        "###Publicación no suicida: esta etiqueta se asigna a tweets que no expresan ningún sentimiento o intención suicida.\n",
        "###Publicación potencial de suicidio: esta etiqueta se asigna a tweets que muestran indicios de pensamientos, sentimientos o intenciones suicidas.\n",
        "\n"
      ],
      "metadata": {
        "id": "-aGUimynxTXm"
      }
    },
    {
      "cell_type": "markdown",
      "source": [
        "Importamos las librerías que usaremos y que son el pan de cada día en la ciencia de datos, excepto zipfile, esa es para los archivos Zip."
      ],
      "metadata": {
        "id": "UpT3ADCz2yS3"
      }
    },
    {
      "cell_type": "code",
      "source": [
        "import pandas as pd\n",
        "import numpy as np\n",
        "import zipfile"
      ],
      "metadata": {
        "id": "s4Nzrvs5_LqG"
      },
      "execution_count": null,
      "outputs": []
    },
    {
      "cell_type": "code",
      "source": [
        "with zipfile.ZipFile(\"/content/suicidal-tweet-detection-dataset.zip\", \"r\" ) as zip_ref:\n",
        "  zip_ref.extractall(\"/content/\")"
      ],
      "metadata": {
        "id": "48Bx8SsT_hJV"
      },
      "execution_count": null,
      "outputs": []
    },
    {
      "cell_type": "code",
      "source": [
        "df = pd.read_csv(\"/content/Suicide_Ideation_Dataset(Twitter-based).csv\")"
      ],
      "metadata": {
        "id": "JbCC3PUM_Uyv"
      },
      "execution_count": null,
      "outputs": []
    },
    {
      "cell_type": "code",
      "source": [
        "df.shape"
      ],
      "metadata": {
        "colab": {
          "base_uri": "https://localhost:8080/"
        },
        "id": "mNpxkV3q_9zk",
        "outputId": "ebac059d-9acc-4814-a5fd-a57f6bca38ae"
      },
      "execution_count": null,
      "outputs": [
        {
          "output_type": "execute_result",
          "data": {
            "text/plain": [
              "(1787, 2)"
            ]
          },
          "metadata": {},
          "execution_count": 619
        }
      ]
    },
    {
      "cell_type": "code",
      "source": [
        "df.head()"
      ],
      "metadata": {
        "colab": {
          "base_uri": "https://localhost:8080/",
          "height": 206
        },
        "id": "YGeCuVVaAAc0",
        "outputId": "3b4a0a88-9f35-4a17-b497-8049b5a9c6fc"
      },
      "execution_count": null,
      "outputs": [
        {
          "output_type": "execute_result",
          "data": {
            "text/plain": [
              "                                               Tweet                  Suicide\n",
              "0                                  making some lunch         Not Suicide post\n",
              "1                        @Alexia You want his money.         Not Suicide post\n",
              "2  @dizzyhrvy that crap took me forever to put to...  Potential Suicide post \n",
              "3  @jnaylor #kiwitweets Hey Jer! Since when did y...         Not Suicide post\n",
              "4  Trying out &quot;Delicious Library 2&quot; wit...         Not Suicide post"
            ],
            "text/html": [
              "\n",
              "  <div id=\"df-7c8fa541-6059-430a-9685-6224372c64c0\" class=\"colab-df-container\">\n",
              "    <div>\n",
              "<style scoped>\n",
              "    .dataframe tbody tr th:only-of-type {\n",
              "        vertical-align: middle;\n",
              "    }\n",
              "\n",
              "    .dataframe tbody tr th {\n",
              "        vertical-align: top;\n",
              "    }\n",
              "\n",
              "    .dataframe thead th {\n",
              "        text-align: right;\n",
              "    }\n",
              "</style>\n",
              "<table border=\"1\" class=\"dataframe\">\n",
              "  <thead>\n",
              "    <tr style=\"text-align: right;\">\n",
              "      <th></th>\n",
              "      <th>Tweet</th>\n",
              "      <th>Suicide</th>\n",
              "    </tr>\n",
              "  </thead>\n",
              "  <tbody>\n",
              "    <tr>\n",
              "      <th>0</th>\n",
              "      <td>making some lunch</td>\n",
              "      <td>Not Suicide post</td>\n",
              "    </tr>\n",
              "    <tr>\n",
              "      <th>1</th>\n",
              "      <td>@Alexia You want his money.</td>\n",
              "      <td>Not Suicide post</td>\n",
              "    </tr>\n",
              "    <tr>\n",
              "      <th>2</th>\n",
              "      <td>@dizzyhrvy that crap took me forever to put to...</td>\n",
              "      <td>Potential Suicide post</td>\n",
              "    </tr>\n",
              "    <tr>\n",
              "      <th>3</th>\n",
              "      <td>@jnaylor #kiwitweets Hey Jer! Since when did y...</td>\n",
              "      <td>Not Suicide post</td>\n",
              "    </tr>\n",
              "    <tr>\n",
              "      <th>4</th>\n",
              "      <td>Trying out &amp;quot;Delicious Library 2&amp;quot; wit...</td>\n",
              "      <td>Not Suicide post</td>\n",
              "    </tr>\n",
              "  </tbody>\n",
              "</table>\n",
              "</div>\n",
              "    <div class=\"colab-df-buttons\">\n",
              "\n",
              "  <div class=\"colab-df-container\">\n",
              "    <button class=\"colab-df-convert\" onclick=\"convertToInteractive('df-7c8fa541-6059-430a-9685-6224372c64c0')\"\n",
              "            title=\"Convert this dataframe to an interactive table.\"\n",
              "            style=\"display:none;\">\n",
              "\n",
              "  <svg xmlns=\"http://www.w3.org/2000/svg\" height=\"24px\" viewBox=\"0 -960 960 960\">\n",
              "    <path d=\"M120-120v-720h720v720H120Zm60-500h600v-160H180v160Zm220 220h160v-160H400v160Zm0 220h160v-160H400v160ZM180-400h160v-160H180v160Zm440 0h160v-160H620v160ZM180-180h160v-160H180v160Zm440 0h160v-160H620v160Z\"/>\n",
              "  </svg>\n",
              "    </button>\n",
              "\n",
              "  <style>\n",
              "    .colab-df-container {\n",
              "      display:flex;\n",
              "      gap: 12px;\n",
              "    }\n",
              "\n",
              "    .colab-df-convert {\n",
              "      background-color: #E8F0FE;\n",
              "      border: none;\n",
              "      border-radius: 50%;\n",
              "      cursor: pointer;\n",
              "      display: none;\n",
              "      fill: #1967D2;\n",
              "      height: 32px;\n",
              "      padding: 0 0 0 0;\n",
              "      width: 32px;\n",
              "    }\n",
              "\n",
              "    .colab-df-convert:hover {\n",
              "      background-color: #E2EBFA;\n",
              "      box-shadow: 0px 1px 2px rgba(60, 64, 67, 0.3), 0px 1px 3px 1px rgba(60, 64, 67, 0.15);\n",
              "      fill: #174EA6;\n",
              "    }\n",
              "\n",
              "    .colab-df-buttons div {\n",
              "      margin-bottom: 4px;\n",
              "    }\n",
              "\n",
              "    [theme=dark] .colab-df-convert {\n",
              "      background-color: #3B4455;\n",
              "      fill: #D2E3FC;\n",
              "    }\n",
              "\n",
              "    [theme=dark] .colab-df-convert:hover {\n",
              "      background-color: #434B5C;\n",
              "      box-shadow: 0px 1px 3px 1px rgba(0, 0, 0, 0.15);\n",
              "      filter: drop-shadow(0px 1px 2px rgba(0, 0, 0, 0.3));\n",
              "      fill: #FFFFFF;\n",
              "    }\n",
              "  </style>\n",
              "\n",
              "    <script>\n",
              "      const buttonEl =\n",
              "        document.querySelector('#df-7c8fa541-6059-430a-9685-6224372c64c0 button.colab-df-convert');\n",
              "      buttonEl.style.display =\n",
              "        google.colab.kernel.accessAllowed ? 'block' : 'none';\n",
              "\n",
              "      async function convertToInteractive(key) {\n",
              "        const element = document.querySelector('#df-7c8fa541-6059-430a-9685-6224372c64c0');\n",
              "        const dataTable =\n",
              "          await google.colab.kernel.invokeFunction('convertToInteractive',\n",
              "                                                    [key], {});\n",
              "        if (!dataTable) return;\n",
              "\n",
              "        const docLinkHtml = 'Like what you see? Visit the ' +\n",
              "          '<a target=\"_blank\" href=https://colab.research.google.com/notebooks/data_table.ipynb>data table notebook</a>'\n",
              "          + ' to learn more about interactive tables.';\n",
              "        element.innerHTML = '';\n",
              "        dataTable['output_type'] = 'display_data';\n",
              "        await google.colab.output.renderOutput(dataTable, element);\n",
              "        const docLink = document.createElement('div');\n",
              "        docLink.innerHTML = docLinkHtml;\n",
              "        element.appendChild(docLink);\n",
              "      }\n",
              "    </script>\n",
              "  </div>\n",
              "\n",
              "\n",
              "<div id=\"df-0625ec89-71a2-44d2-b0fc-4901ee81e8c4\">\n",
              "  <button class=\"colab-df-quickchart\" onclick=\"quickchart('df-0625ec89-71a2-44d2-b0fc-4901ee81e8c4')\"\n",
              "            title=\"Suggest charts.\"\n",
              "            style=\"display:none;\">\n",
              "\n",
              "<svg xmlns=\"http://www.w3.org/2000/svg\" height=\"24px\"viewBox=\"0 0 24 24\"\n",
              "     width=\"24px\">\n",
              "    <g>\n",
              "        <path d=\"M19 3H5c-1.1 0-2 .9-2 2v14c0 1.1.9 2 2 2h14c1.1 0 2-.9 2-2V5c0-1.1-.9-2-2-2zM9 17H7v-7h2v7zm4 0h-2V7h2v10zm4 0h-2v-4h2v4z\"/>\n",
              "    </g>\n",
              "</svg>\n",
              "  </button>\n",
              "\n",
              "<style>\n",
              "  .colab-df-quickchart {\n",
              "    background-color: #E8F0FE;\n",
              "    border: none;\n",
              "    border-radius: 50%;\n",
              "    cursor: pointer;\n",
              "    display: none;\n",
              "    fill: #1967D2;\n",
              "    height: 32px;\n",
              "    padding: 0 0 0 0;\n",
              "    width: 32px;\n",
              "  }\n",
              "\n",
              "  .colab-df-quickchart:hover {\n",
              "    background-color: #E2EBFA;\n",
              "    box-shadow: 0px 1px 2px rgba(60, 64, 67, 0.3), 0px 1px 3px 1px rgba(60, 64, 67, 0.15);\n",
              "    fill: #174EA6;\n",
              "  }\n",
              "\n",
              "  [theme=dark] .colab-df-quickchart {\n",
              "    background-color: #3B4455;\n",
              "    fill: #D2E3FC;\n",
              "  }\n",
              "\n",
              "  [theme=dark] .colab-df-quickchart:hover {\n",
              "    background-color: #434B5C;\n",
              "    box-shadow: 0px 1px 3px 1px rgba(0, 0, 0, 0.15);\n",
              "    filter: drop-shadow(0px 1px 2px rgba(0, 0, 0, 0.3));\n",
              "    fill: #FFFFFF;\n",
              "  }\n",
              "</style>\n",
              "\n",
              "  <script>\n",
              "    async function quickchart(key) {\n",
              "      const charts = await google.colab.kernel.invokeFunction(\n",
              "          'suggestCharts', [key], {});\n",
              "    }\n",
              "    (() => {\n",
              "      let quickchartButtonEl =\n",
              "        document.querySelector('#df-0625ec89-71a2-44d2-b0fc-4901ee81e8c4 button');\n",
              "      quickchartButtonEl.style.display =\n",
              "        google.colab.kernel.accessAllowed ? 'block' : 'none';\n",
              "    })();\n",
              "  </script>\n",
              "</div>\n",
              "    </div>\n",
              "  </div>\n"
            ]
          },
          "metadata": {},
          "execution_count": 620
        }
      ]
    },
    {
      "cell_type": "code",
      "source": [
        "data_2=df.copy()"
      ],
      "metadata": {
        "id": "TzLfJ41TAMe2"
      },
      "execution_count": null,
      "outputs": []
    },
    {
      "cell_type": "markdown",
      "source": [
        "Podemos ver que hay dos filas con datos null, estas las borraremos pues no aportan nada y al tratarse de archivos de tipo cadena no son tan fáciles de remplazar"
      ],
      "metadata": {
        "id": "sdkgRk4b3LOu"
      }
    },
    {
      "cell_type": "code",
      "source": [
        "data_2.isnull().sum()"
      ],
      "metadata": {
        "colab": {
          "base_uri": "https://localhost:8080/"
        },
        "id": "xP1IBMH4AtM3",
        "outputId": "5ef899a7-e000-4b36-a47e-781f94cf71b4"
      },
      "execution_count": null,
      "outputs": [
        {
          "output_type": "execute_result",
          "data": {
            "text/plain": [
              "Tweet      2\n",
              "Suicide    0\n",
              "dtype: int64"
            ]
          },
          "metadata": {},
          "execution_count": 622
        }
      ]
    },
    {
      "cell_type": "code",
      "source": [
        "data_2 = data_2.dropna()\n",
        "data_2.loc[:, 'Tweet'] = data_2['Tweet'].astype(str)"
      ],
      "metadata": {
        "id": "P5Kp5t5MA4cK"
      },
      "execution_count": null,
      "outputs": []
    },
    {
      "cell_type": "code",
      "source": [
        "data_2.isnull().sum()"
      ],
      "metadata": {
        "colab": {
          "base_uri": "https://localhost:8080/"
        },
        "id": "fIfjXi3mA-8F",
        "outputId": "77edd193-0f75-4720-c6c2-b39e17b8794d"
      },
      "execution_count": null,
      "outputs": [
        {
          "output_type": "execute_result",
          "data": {
            "text/plain": [
              "Tweet      0\n",
              "Suicide    0\n",
              "dtype: int64"
            ]
          },
          "metadata": {},
          "execution_count": 624
        }
      ]
    },
    {
      "cell_type": "markdown",
      "source": [
        "Cambiaremos en la columna de suicidio las varibles de \"Not suicide post\" por 0 y \"Potencial Suicide post\" por 1."
      ],
      "metadata": {
        "id": "qFHBMyGv3QFC"
      }
    },
    {
      "cell_type": "code",
      "source": [
        "data_2[\"Suicide\"].replace(\"Not Suicide post\", 0, inplace = True)\n",
        "data_2[\"Suicide\"].replace(\"Potential Suicide post \", 1, inplace = True)"
      ],
      "metadata": {
        "id": "wJWm7NdLBi3N"
      },
      "execution_count": null,
      "outputs": []
    },
    {
      "cell_type": "markdown",
      "source": [
        "Verificamos que en la columna de Suicidio solo hay dos valores: 1 y 0."
      ],
      "metadata": {
        "id": "KtsVsbP03gM0"
      }
    },
    {
      "cell_type": "code",
      "source": [
        "data_2[\"Suicide\"].unique()"
      ],
      "metadata": {
        "colab": {
          "base_uri": "https://localhost:8080/"
        },
        "id": "cztxv6kWCHFF",
        "outputId": "b53aa1b4-eac9-4a15-ba89-0c1556336a1c"
      },
      "execution_count": null,
      "outputs": [
        {
          "output_type": "execute_result",
          "data": {
            "text/plain": [
              "array([0, 1])"
            ]
          },
          "metadata": {},
          "execution_count": 626
        }
      ]
    },
    {
      "cell_type": "markdown",
      "source": [
        "Como usted ya lo pudo anticipar, el análisis tiene que ser por texto, entonces procederemos a limpiar los elementos del tweet que no sirven al análisis como los emojis y símbolos que no están en el alfabeto."
      ],
      "metadata": {
        "id": "EhDbRMG03pF_"
      }
    },
    {
      "cell_type": "code",
      "source": [
        "data_2"
      ],
      "metadata": {
        "colab": {
          "base_uri": "https://localhost:8080/",
          "height": 423
        },
        "id": "AMDo1TcdCXcz",
        "outputId": "e5495c9f-62f3-490d-8d27-77ce0ecff0f3"
      },
      "execution_count": null,
      "outputs": [
        {
          "output_type": "execute_result",
          "data": {
            "text/plain": [
              "                                                  Tweet  Suicide\n",
              "0                                     making some lunch        0\n",
              "1                           @Alexia You want his money.        0\n",
              "2     @dizzyhrvy that crap took me forever to put to...        1\n",
              "3     @jnaylor #kiwitweets Hey Jer! Since when did y...        0\n",
              "4     Trying out &quot;Delicious Library 2&quot; wit...        0\n",
              "...                                                 ...      ...\n",
              "1782    i have forgotten how much i love my Nokia N95-1        0\n",
              "1783  Starting my day out with a positive attitude! ...        0\n",
              "1784  @belledame222 Hey, it's 5 am...give a girl som...        0\n",
              "1785  2 drunken besties stumble into my room and we ...        0\n",
              "1786  @dancingbonita &quot;I friggin love you!!!&quo...        0\n",
              "\n",
              "[1785 rows x 2 columns]"
            ],
            "text/html": [
              "\n",
              "  <div id=\"df-29990387-08c3-4c54-8f9d-a650754ada19\" class=\"colab-df-container\">\n",
              "    <div>\n",
              "<style scoped>\n",
              "    .dataframe tbody tr th:only-of-type {\n",
              "        vertical-align: middle;\n",
              "    }\n",
              "\n",
              "    .dataframe tbody tr th {\n",
              "        vertical-align: top;\n",
              "    }\n",
              "\n",
              "    .dataframe thead th {\n",
              "        text-align: right;\n",
              "    }\n",
              "</style>\n",
              "<table border=\"1\" class=\"dataframe\">\n",
              "  <thead>\n",
              "    <tr style=\"text-align: right;\">\n",
              "      <th></th>\n",
              "      <th>Tweet</th>\n",
              "      <th>Suicide</th>\n",
              "    </tr>\n",
              "  </thead>\n",
              "  <tbody>\n",
              "    <tr>\n",
              "      <th>0</th>\n",
              "      <td>making some lunch</td>\n",
              "      <td>0</td>\n",
              "    </tr>\n",
              "    <tr>\n",
              "      <th>1</th>\n",
              "      <td>@Alexia You want his money.</td>\n",
              "      <td>0</td>\n",
              "    </tr>\n",
              "    <tr>\n",
              "      <th>2</th>\n",
              "      <td>@dizzyhrvy that crap took me forever to put to...</td>\n",
              "      <td>1</td>\n",
              "    </tr>\n",
              "    <tr>\n",
              "      <th>3</th>\n",
              "      <td>@jnaylor #kiwitweets Hey Jer! Since when did y...</td>\n",
              "      <td>0</td>\n",
              "    </tr>\n",
              "    <tr>\n",
              "      <th>4</th>\n",
              "      <td>Trying out &amp;quot;Delicious Library 2&amp;quot; wit...</td>\n",
              "      <td>0</td>\n",
              "    </tr>\n",
              "    <tr>\n",
              "      <th>...</th>\n",
              "      <td>...</td>\n",
              "      <td>...</td>\n",
              "    </tr>\n",
              "    <tr>\n",
              "      <th>1782</th>\n",
              "      <td>i have forgotten how much i love my Nokia N95-1</td>\n",
              "      <td>0</td>\n",
              "    </tr>\n",
              "    <tr>\n",
              "      <th>1783</th>\n",
              "      <td>Starting my day out with a positive attitude! ...</td>\n",
              "      <td>0</td>\n",
              "    </tr>\n",
              "    <tr>\n",
              "      <th>1784</th>\n",
              "      <td>@belledame222 Hey, it's 5 am...give a girl som...</td>\n",
              "      <td>0</td>\n",
              "    </tr>\n",
              "    <tr>\n",
              "      <th>1785</th>\n",
              "      <td>2 drunken besties stumble into my room and we ...</td>\n",
              "      <td>0</td>\n",
              "    </tr>\n",
              "    <tr>\n",
              "      <th>1786</th>\n",
              "      <td>@dancingbonita &amp;quot;I friggin love you!!!&amp;quo...</td>\n",
              "      <td>0</td>\n",
              "    </tr>\n",
              "  </tbody>\n",
              "</table>\n",
              "<p>1785 rows × 2 columns</p>\n",
              "</div>\n",
              "    <div class=\"colab-df-buttons\">\n",
              "\n",
              "  <div class=\"colab-df-container\">\n",
              "    <button class=\"colab-df-convert\" onclick=\"convertToInteractive('df-29990387-08c3-4c54-8f9d-a650754ada19')\"\n",
              "            title=\"Convert this dataframe to an interactive table.\"\n",
              "            style=\"display:none;\">\n",
              "\n",
              "  <svg xmlns=\"http://www.w3.org/2000/svg\" height=\"24px\" viewBox=\"0 -960 960 960\">\n",
              "    <path d=\"M120-120v-720h720v720H120Zm60-500h600v-160H180v160Zm220 220h160v-160H400v160Zm0 220h160v-160H400v160ZM180-400h160v-160H180v160Zm440 0h160v-160H620v160ZM180-180h160v-160H180v160Zm440 0h160v-160H620v160Z\"/>\n",
              "  </svg>\n",
              "    </button>\n",
              "\n",
              "  <style>\n",
              "    .colab-df-container {\n",
              "      display:flex;\n",
              "      gap: 12px;\n",
              "    }\n",
              "\n",
              "    .colab-df-convert {\n",
              "      background-color: #E8F0FE;\n",
              "      border: none;\n",
              "      border-radius: 50%;\n",
              "      cursor: pointer;\n",
              "      display: none;\n",
              "      fill: #1967D2;\n",
              "      height: 32px;\n",
              "      padding: 0 0 0 0;\n",
              "      width: 32px;\n",
              "    }\n",
              "\n",
              "    .colab-df-convert:hover {\n",
              "      background-color: #E2EBFA;\n",
              "      box-shadow: 0px 1px 2px rgba(60, 64, 67, 0.3), 0px 1px 3px 1px rgba(60, 64, 67, 0.15);\n",
              "      fill: #174EA6;\n",
              "    }\n",
              "\n",
              "    .colab-df-buttons div {\n",
              "      margin-bottom: 4px;\n",
              "    }\n",
              "\n",
              "    [theme=dark] .colab-df-convert {\n",
              "      background-color: #3B4455;\n",
              "      fill: #D2E3FC;\n",
              "    }\n",
              "\n",
              "    [theme=dark] .colab-df-convert:hover {\n",
              "      background-color: #434B5C;\n",
              "      box-shadow: 0px 1px 3px 1px rgba(0, 0, 0, 0.15);\n",
              "      filter: drop-shadow(0px 1px 2px rgba(0, 0, 0, 0.3));\n",
              "      fill: #FFFFFF;\n",
              "    }\n",
              "  </style>\n",
              "\n",
              "    <script>\n",
              "      const buttonEl =\n",
              "        document.querySelector('#df-29990387-08c3-4c54-8f9d-a650754ada19 button.colab-df-convert');\n",
              "      buttonEl.style.display =\n",
              "        google.colab.kernel.accessAllowed ? 'block' : 'none';\n",
              "\n",
              "      async function convertToInteractive(key) {\n",
              "        const element = document.querySelector('#df-29990387-08c3-4c54-8f9d-a650754ada19');\n",
              "        const dataTable =\n",
              "          await google.colab.kernel.invokeFunction('convertToInteractive',\n",
              "                                                    [key], {});\n",
              "        if (!dataTable) return;\n",
              "\n",
              "        const docLinkHtml = 'Like what you see? Visit the ' +\n",
              "          '<a target=\"_blank\" href=https://colab.research.google.com/notebooks/data_table.ipynb>data table notebook</a>'\n",
              "          + ' to learn more about interactive tables.';\n",
              "        element.innerHTML = '';\n",
              "        dataTable['output_type'] = 'display_data';\n",
              "        await google.colab.output.renderOutput(dataTable, element);\n",
              "        const docLink = document.createElement('div');\n",
              "        docLink.innerHTML = docLinkHtml;\n",
              "        element.appendChild(docLink);\n",
              "      }\n",
              "    </script>\n",
              "  </div>\n",
              "\n",
              "\n",
              "<div id=\"df-005e7cce-468c-4277-9041-35a2f5a265ca\">\n",
              "  <button class=\"colab-df-quickchart\" onclick=\"quickchart('df-005e7cce-468c-4277-9041-35a2f5a265ca')\"\n",
              "            title=\"Suggest charts.\"\n",
              "            style=\"display:none;\">\n",
              "\n",
              "<svg xmlns=\"http://www.w3.org/2000/svg\" height=\"24px\"viewBox=\"0 0 24 24\"\n",
              "     width=\"24px\">\n",
              "    <g>\n",
              "        <path d=\"M19 3H5c-1.1 0-2 .9-2 2v14c0 1.1.9 2 2 2h14c1.1 0 2-.9 2-2V5c0-1.1-.9-2-2-2zM9 17H7v-7h2v7zm4 0h-2V7h2v10zm4 0h-2v-4h2v4z\"/>\n",
              "    </g>\n",
              "</svg>\n",
              "  </button>\n",
              "\n",
              "<style>\n",
              "  .colab-df-quickchart {\n",
              "    background-color: #E8F0FE;\n",
              "    border: none;\n",
              "    border-radius: 50%;\n",
              "    cursor: pointer;\n",
              "    display: none;\n",
              "    fill: #1967D2;\n",
              "    height: 32px;\n",
              "    padding: 0 0 0 0;\n",
              "    width: 32px;\n",
              "  }\n",
              "\n",
              "  .colab-df-quickchart:hover {\n",
              "    background-color: #E2EBFA;\n",
              "    box-shadow: 0px 1px 2px rgba(60, 64, 67, 0.3), 0px 1px 3px 1px rgba(60, 64, 67, 0.15);\n",
              "    fill: #174EA6;\n",
              "  }\n",
              "\n",
              "  [theme=dark] .colab-df-quickchart {\n",
              "    background-color: #3B4455;\n",
              "    fill: #D2E3FC;\n",
              "  }\n",
              "\n",
              "  [theme=dark] .colab-df-quickchart:hover {\n",
              "    background-color: #434B5C;\n",
              "    box-shadow: 0px 1px 3px 1px rgba(0, 0, 0, 0.15);\n",
              "    filter: drop-shadow(0px 1px 2px rgba(0, 0, 0, 0.3));\n",
              "    fill: #FFFFFF;\n",
              "  }\n",
              "</style>\n",
              "\n",
              "  <script>\n",
              "    async function quickchart(key) {\n",
              "      const charts = await google.colab.kernel.invokeFunction(\n",
              "          'suggestCharts', [key], {});\n",
              "    }\n",
              "    (() => {\n",
              "      let quickchartButtonEl =\n",
              "        document.querySelector('#df-005e7cce-468c-4277-9041-35a2f5a265ca button');\n",
              "      quickchartButtonEl.style.display =\n",
              "        google.colab.kernel.accessAllowed ? 'block' : 'none';\n",
              "    })();\n",
              "  </script>\n",
              "</div>\n",
              "    </div>\n",
              "  </div>\n"
            ]
          },
          "metadata": {},
          "execution_count": 627
        }
      ]
    },
    {
      "cell_type": "code",
      "source": [
        "!pip install demoji  #Esta librería nos ayudará en la tarea de eliminar los emojis"
      ],
      "metadata": {
        "id": "fYoaj4k1Lvz9"
      },
      "execution_count": null,
      "outputs": []
    },
    {
      "cell_type": "code",
      "source": [
        "import demoji\n",
        "demoji.download_codes()"
      ],
      "metadata": {
        "id": "d7c_3ofYNrnr"
      },
      "execution_count": null,
      "outputs": []
    },
    {
      "cell_type": "code",
      "source": [
        "def eliminar_emo(texto):\n",
        "  return demoji.replace(texto,'')"
      ],
      "metadata": {
        "id": "nO3GWVrvLrHh"
      },
      "execution_count": null,
      "outputs": []
    },
    {
      "cell_type": "markdown",
      "source": [
        "Aquí podemos ver como se esta generando la limpieza de los tweets se están dejando las palabras que le dan sentido a la oración."
      ],
      "metadata": {
        "id": "a3b79vMA4GAa"
      }
    },
    {
      "cell_type": "code",
      "source": [
        "data_2[\"Tweet\"]=data_2[\"Tweet\"].apply(eliminar_emo)\n",
        "data_2['Tweet'] = data_2['Tweet'].str.replace(r'[³áµ¹¸·â’Êæ±ËïÃ¯Â½ð­­­ª¾¶º¤¼´ó§¢¥§¼]', '', regex=True)\n",
        "data_2[\"Tweet\"] = data_2[\"Tweet\"].str.replace(r\"http[s]?://(?:[a-zA-Z]|[0-9]|[$-_@.&+]|[!*\\\\(\\\\),]|(?:%[0-9a-fA-F][0-9a-fA-F]))+\", '', regex=True)\n",
        "data_2['Tweet'] = data_2['Tweet'].str.replace(r'\\[|\\]', '', regex=True)\n",
        "data_2['Tweet'] = data_2['Tweet'].str.replace(r'[¬*\"°¿^|£~–=¦¡/()%$.,!?@&#:;_\\\\\\-+]', '', regex=True)\n",
        "data_2['Tweet'] = data_2['Tweet'].str.replace(r'\\\"|\\`', '', regex=True)\n",
        "data_2['Tweet'] = data_2['Tweet'].str.replace(r'\\\"|\\'', '', regex=True)"
      ],
      "metadata": {
        "id": "PocXbNnkMX_7"
      },
      "execution_count": null,
      "outputs": []
    },
    {
      "cell_type": "code",
      "source": [
        "data_2.head() #Damos una vista previa de los datos ya limpios"
      ],
      "metadata": {
        "colab": {
          "base_uri": "https://localhost:8080/",
          "height": 206
        },
        "id": "FP1JtzGZNz0f",
        "outputId": "bcceb523-dc2d-4cfe-9c84-23f17cb2f52c"
      },
      "execution_count": null,
      "outputs": [
        {
          "output_type": "execute_result",
          "data": {
            "text/plain": [
              "                                               Tweet  Suicide\n",
              "0                                  making some lunch        0\n",
              "1                          Alexia You want his money        0\n",
              "2  dizzyhrvy that crap took me forever to put tog...        1\n",
              "3  jnaylor kiwitweets Hey Jer Since when did you ...        0\n",
              "4  Trying out quotDelicious Library 2quot with mi...        0"
            ],
            "text/html": [
              "\n",
              "  <div id=\"df-a0e3cb8e-6d2f-485a-a4ca-21182d59834a\" class=\"colab-df-container\">\n",
              "    <div>\n",
              "<style scoped>\n",
              "    .dataframe tbody tr th:only-of-type {\n",
              "        vertical-align: middle;\n",
              "    }\n",
              "\n",
              "    .dataframe tbody tr th {\n",
              "        vertical-align: top;\n",
              "    }\n",
              "\n",
              "    .dataframe thead th {\n",
              "        text-align: right;\n",
              "    }\n",
              "</style>\n",
              "<table border=\"1\" class=\"dataframe\">\n",
              "  <thead>\n",
              "    <tr style=\"text-align: right;\">\n",
              "      <th></th>\n",
              "      <th>Tweet</th>\n",
              "      <th>Suicide</th>\n",
              "    </tr>\n",
              "  </thead>\n",
              "  <tbody>\n",
              "    <tr>\n",
              "      <th>0</th>\n",
              "      <td>making some lunch</td>\n",
              "      <td>0</td>\n",
              "    </tr>\n",
              "    <tr>\n",
              "      <th>1</th>\n",
              "      <td>Alexia You want his money</td>\n",
              "      <td>0</td>\n",
              "    </tr>\n",
              "    <tr>\n",
              "      <th>2</th>\n",
              "      <td>dizzyhrvy that crap took me forever to put tog...</td>\n",
              "      <td>1</td>\n",
              "    </tr>\n",
              "    <tr>\n",
              "      <th>3</th>\n",
              "      <td>jnaylor kiwitweets Hey Jer Since when did you ...</td>\n",
              "      <td>0</td>\n",
              "    </tr>\n",
              "    <tr>\n",
              "      <th>4</th>\n",
              "      <td>Trying out quotDelicious Library 2quot with mi...</td>\n",
              "      <td>0</td>\n",
              "    </tr>\n",
              "  </tbody>\n",
              "</table>\n",
              "</div>\n",
              "    <div class=\"colab-df-buttons\">\n",
              "\n",
              "  <div class=\"colab-df-container\">\n",
              "    <button class=\"colab-df-convert\" onclick=\"convertToInteractive('df-a0e3cb8e-6d2f-485a-a4ca-21182d59834a')\"\n",
              "            title=\"Convert this dataframe to an interactive table.\"\n",
              "            style=\"display:none;\">\n",
              "\n",
              "  <svg xmlns=\"http://www.w3.org/2000/svg\" height=\"24px\" viewBox=\"0 -960 960 960\">\n",
              "    <path d=\"M120-120v-720h720v720H120Zm60-500h600v-160H180v160Zm220 220h160v-160H400v160Zm0 220h160v-160H400v160ZM180-400h160v-160H180v160Zm440 0h160v-160H620v160ZM180-180h160v-160H180v160Zm440 0h160v-160H620v160Z\"/>\n",
              "  </svg>\n",
              "    </button>\n",
              "\n",
              "  <style>\n",
              "    .colab-df-container {\n",
              "      display:flex;\n",
              "      gap: 12px;\n",
              "    }\n",
              "\n",
              "    .colab-df-convert {\n",
              "      background-color: #E8F0FE;\n",
              "      border: none;\n",
              "      border-radius: 50%;\n",
              "      cursor: pointer;\n",
              "      display: none;\n",
              "      fill: #1967D2;\n",
              "      height: 32px;\n",
              "      padding: 0 0 0 0;\n",
              "      width: 32px;\n",
              "    }\n",
              "\n",
              "    .colab-df-convert:hover {\n",
              "      background-color: #E2EBFA;\n",
              "      box-shadow: 0px 1px 2px rgba(60, 64, 67, 0.3), 0px 1px 3px 1px rgba(60, 64, 67, 0.15);\n",
              "      fill: #174EA6;\n",
              "    }\n",
              "\n",
              "    .colab-df-buttons div {\n",
              "      margin-bottom: 4px;\n",
              "    }\n",
              "\n",
              "    [theme=dark] .colab-df-convert {\n",
              "      background-color: #3B4455;\n",
              "      fill: #D2E3FC;\n",
              "    }\n",
              "\n",
              "    [theme=dark] .colab-df-convert:hover {\n",
              "      background-color: #434B5C;\n",
              "      box-shadow: 0px 1px 3px 1px rgba(0, 0, 0, 0.15);\n",
              "      filter: drop-shadow(0px 1px 2px rgba(0, 0, 0, 0.3));\n",
              "      fill: #FFFFFF;\n",
              "    }\n",
              "  </style>\n",
              "\n",
              "    <script>\n",
              "      const buttonEl =\n",
              "        document.querySelector('#df-a0e3cb8e-6d2f-485a-a4ca-21182d59834a button.colab-df-convert');\n",
              "      buttonEl.style.display =\n",
              "        google.colab.kernel.accessAllowed ? 'block' : 'none';\n",
              "\n",
              "      async function convertToInteractive(key) {\n",
              "        const element = document.querySelector('#df-a0e3cb8e-6d2f-485a-a4ca-21182d59834a');\n",
              "        const dataTable =\n",
              "          await google.colab.kernel.invokeFunction('convertToInteractive',\n",
              "                                                    [key], {});\n",
              "        if (!dataTable) return;\n",
              "\n",
              "        const docLinkHtml = 'Like what you see? Visit the ' +\n",
              "          '<a target=\"_blank\" href=https://colab.research.google.com/notebooks/data_table.ipynb>data table notebook</a>'\n",
              "          + ' to learn more about interactive tables.';\n",
              "        element.innerHTML = '';\n",
              "        dataTable['output_type'] = 'display_data';\n",
              "        await google.colab.output.renderOutput(dataTable, element);\n",
              "        const docLink = document.createElement('div');\n",
              "        docLink.innerHTML = docLinkHtml;\n",
              "        element.appendChild(docLink);\n",
              "      }\n",
              "    </script>\n",
              "  </div>\n",
              "\n",
              "\n",
              "<div id=\"df-050643e8-8c2b-42cf-b55d-04ad1267de22\">\n",
              "  <button class=\"colab-df-quickchart\" onclick=\"quickchart('df-050643e8-8c2b-42cf-b55d-04ad1267de22')\"\n",
              "            title=\"Suggest charts.\"\n",
              "            style=\"display:none;\">\n",
              "\n",
              "<svg xmlns=\"http://www.w3.org/2000/svg\" height=\"24px\"viewBox=\"0 0 24 24\"\n",
              "     width=\"24px\">\n",
              "    <g>\n",
              "        <path d=\"M19 3H5c-1.1 0-2 .9-2 2v14c0 1.1.9 2 2 2h14c1.1 0 2-.9 2-2V5c0-1.1-.9-2-2-2zM9 17H7v-7h2v7zm4 0h-2V7h2v10zm4 0h-2v-4h2v4z\"/>\n",
              "    </g>\n",
              "</svg>\n",
              "  </button>\n",
              "\n",
              "<style>\n",
              "  .colab-df-quickchart {\n",
              "    background-color: #E8F0FE;\n",
              "    border: none;\n",
              "    border-radius: 50%;\n",
              "    cursor: pointer;\n",
              "    display: none;\n",
              "    fill: #1967D2;\n",
              "    height: 32px;\n",
              "    padding: 0 0 0 0;\n",
              "    width: 32px;\n",
              "  }\n",
              "\n",
              "  .colab-df-quickchart:hover {\n",
              "    background-color: #E2EBFA;\n",
              "    box-shadow: 0px 1px 2px rgba(60, 64, 67, 0.3), 0px 1px 3px 1px rgba(60, 64, 67, 0.15);\n",
              "    fill: #174EA6;\n",
              "  }\n",
              "\n",
              "  [theme=dark] .colab-df-quickchart {\n",
              "    background-color: #3B4455;\n",
              "    fill: #D2E3FC;\n",
              "  }\n",
              "\n",
              "  [theme=dark] .colab-df-quickchart:hover {\n",
              "    background-color: #434B5C;\n",
              "    box-shadow: 0px 1px 3px 1px rgba(0, 0, 0, 0.15);\n",
              "    filter: drop-shadow(0px 1px 2px rgba(0, 0, 0, 0.3));\n",
              "    fill: #FFFFFF;\n",
              "  }\n",
              "</style>\n",
              "\n",
              "  <script>\n",
              "    async function quickchart(key) {\n",
              "      const charts = await google.colab.kernel.invokeFunction(\n",
              "          'suggestCharts', [key], {});\n",
              "    }\n",
              "    (() => {\n",
              "      let quickchartButtonEl =\n",
              "        document.querySelector('#df-050643e8-8c2b-42cf-b55d-04ad1267de22 button');\n",
              "      quickchartButtonEl.style.display =\n",
              "        google.colab.kernel.accessAllowed ? 'block' : 'none';\n",
              "    })();\n",
              "  </script>\n",
              "</div>\n",
              "    </div>\n",
              "  </div>\n"
            ]
          },
          "metadata": {},
          "execution_count": 673
        }
      ]
    },
    {
      "cell_type": "markdown",
      "source": [
        "Utilizamos la librería \"re\" para crear una función que nos permita visualizar los caracteres que no están en el alfabeto, tanto en minúsculas como en mayúsculas. Esto nos servirá para obtener una representación de los emojis y caracteres que estaban presentes en el texto."
      ],
      "metadata": {
        "id": "OmoWkqw94ZXc"
      }
    },
    {
      "cell_type": "code",
      "source": [
        "import re\n",
        "def buscar_no_letras(texto):\n",
        "    no_letras_pattern = re.compile(r'[^a-zA-Z]')\n",
        "    caracteres_no_letras = no_letras_pattern.findall(texto)\n",
        "    return caracteres_no_letras"
      ],
      "metadata": {
        "id": "Uagd5W3bN8Wb"
      },
      "execution_count": null,
      "outputs": []
    },
    {
      "cell_type": "code",
      "source": [
        "pd.DataFrame(data_2[\"Tweet\"].apply(buscar_no_letras))"
      ],
      "metadata": {
        "colab": {
          "base_uri": "https://localhost:8080/",
          "height": 423
        },
        "id": "QUWQJ7wWQPb4",
        "outputId": "851eb1aa-01b1-4235-d666-860f0cbbe448"
      },
      "execution_count": null,
      "outputs": [
        {
          "output_type": "execute_result",
          "data": {
            "text/plain": [
              "                                                  Tweet\n",
              "0                                                [ ,  ]\n",
              "1                                          [ ,  ,  ,  ]\n",
              "2         [ ,  ,  ,  ,  ,  ,  ,  ,  ,  ,  ,  ,  ,  ,  ]\n",
              "3                           [ ,  ,  ,  ,  ,  ,  ,  ,  ]\n",
              "4     [ ,  ,  ,  , 2,  ,  ,  ,  ,  ,  ,  ,  ,  ,  , ...\n",
              "...                                                 ...\n",
              "1782               [ ,  ,  ,  ,  ,  ,  ,  ,  , 9, 5, 1]\n",
              "1783               [ ,  ,  ,  ,  ,  ,  ,  ,  ,  ,  ,  ]\n",
              "1784         [2, 2, 2,  ,  ,  , 5,  ,  ,  ,  ,  ,  ,  ]\n",
              "1785  [2,  ,  ,  ,  ,  ,  ,  ,  ,  ,  ,  ,  ,  ,  , ...\n",
              "1786                        [ ,  ,  ,  ,  ,  ,  ,  ,  ]\n",
              "\n",
              "[1785 rows x 1 columns]"
            ],
            "text/html": [
              "\n",
              "  <div id=\"df-200325df-3bf5-46b8-9186-aaa4aeddb4f4\" class=\"colab-df-container\">\n",
              "    <div>\n",
              "<style scoped>\n",
              "    .dataframe tbody tr th:only-of-type {\n",
              "        vertical-align: middle;\n",
              "    }\n",
              "\n",
              "    .dataframe tbody tr th {\n",
              "        vertical-align: top;\n",
              "    }\n",
              "\n",
              "    .dataframe thead th {\n",
              "        text-align: right;\n",
              "    }\n",
              "</style>\n",
              "<table border=\"1\" class=\"dataframe\">\n",
              "  <thead>\n",
              "    <tr style=\"text-align: right;\">\n",
              "      <th></th>\n",
              "      <th>Tweet</th>\n",
              "    </tr>\n",
              "  </thead>\n",
              "  <tbody>\n",
              "    <tr>\n",
              "      <th>0</th>\n",
              "      <td>[ ,  ]</td>\n",
              "    </tr>\n",
              "    <tr>\n",
              "      <th>1</th>\n",
              "      <td>[ ,  ,  ,  ]</td>\n",
              "    </tr>\n",
              "    <tr>\n",
              "      <th>2</th>\n",
              "      <td>[ ,  ,  ,  ,  ,  ,  ,  ,  ,  ,  ,  ,  ,  ,  ]</td>\n",
              "    </tr>\n",
              "    <tr>\n",
              "      <th>3</th>\n",
              "      <td>[ ,  ,  ,  ,  ,  ,  ,  ,  ]</td>\n",
              "    </tr>\n",
              "    <tr>\n",
              "      <th>4</th>\n",
              "      <td>[ ,  ,  ,  , 2,  ,  ,  ,  ,  ,  ,  ,  ,  ,  , ...</td>\n",
              "    </tr>\n",
              "    <tr>\n",
              "      <th>...</th>\n",
              "      <td>...</td>\n",
              "    </tr>\n",
              "    <tr>\n",
              "      <th>1782</th>\n",
              "      <td>[ ,  ,  ,  ,  ,  ,  ,  ,  , 9, 5, 1]</td>\n",
              "    </tr>\n",
              "    <tr>\n",
              "      <th>1783</th>\n",
              "      <td>[ ,  ,  ,  ,  ,  ,  ,  ,  ,  ,  ,  ]</td>\n",
              "    </tr>\n",
              "    <tr>\n",
              "      <th>1784</th>\n",
              "      <td>[2, 2, 2,  ,  ,  , 5,  ,  ,  ,  ,  ,  ,  ]</td>\n",
              "    </tr>\n",
              "    <tr>\n",
              "      <th>1785</th>\n",
              "      <td>[2,  ,  ,  ,  ,  ,  ,  ,  ,  ,  ,  ,  ,  ,  , ...</td>\n",
              "    </tr>\n",
              "    <tr>\n",
              "      <th>1786</th>\n",
              "      <td>[ ,  ,  ,  ,  ,  ,  ,  ,  ]</td>\n",
              "    </tr>\n",
              "  </tbody>\n",
              "</table>\n",
              "<p>1785 rows × 1 columns</p>\n",
              "</div>\n",
              "    <div class=\"colab-df-buttons\">\n",
              "\n",
              "  <div class=\"colab-df-container\">\n",
              "    <button class=\"colab-df-convert\" onclick=\"convertToInteractive('df-200325df-3bf5-46b8-9186-aaa4aeddb4f4')\"\n",
              "            title=\"Convert this dataframe to an interactive table.\"\n",
              "            style=\"display:none;\">\n",
              "\n",
              "  <svg xmlns=\"http://www.w3.org/2000/svg\" height=\"24px\" viewBox=\"0 -960 960 960\">\n",
              "    <path d=\"M120-120v-720h720v720H120Zm60-500h600v-160H180v160Zm220 220h160v-160H400v160Zm0 220h160v-160H400v160ZM180-400h160v-160H180v160Zm440 0h160v-160H620v160ZM180-180h160v-160H180v160Zm440 0h160v-160H620v160Z\"/>\n",
              "  </svg>\n",
              "    </button>\n",
              "\n",
              "  <style>\n",
              "    .colab-df-container {\n",
              "      display:flex;\n",
              "      gap: 12px;\n",
              "    }\n",
              "\n",
              "    .colab-df-convert {\n",
              "      background-color: #E8F0FE;\n",
              "      border: none;\n",
              "      border-radius: 50%;\n",
              "      cursor: pointer;\n",
              "      display: none;\n",
              "      fill: #1967D2;\n",
              "      height: 32px;\n",
              "      padding: 0 0 0 0;\n",
              "      width: 32px;\n",
              "    }\n",
              "\n",
              "    .colab-df-convert:hover {\n",
              "      background-color: #E2EBFA;\n",
              "      box-shadow: 0px 1px 2px rgba(60, 64, 67, 0.3), 0px 1px 3px 1px rgba(60, 64, 67, 0.15);\n",
              "      fill: #174EA6;\n",
              "    }\n",
              "\n",
              "    .colab-df-buttons div {\n",
              "      margin-bottom: 4px;\n",
              "    }\n",
              "\n",
              "    [theme=dark] .colab-df-convert {\n",
              "      background-color: #3B4455;\n",
              "      fill: #D2E3FC;\n",
              "    }\n",
              "\n",
              "    [theme=dark] .colab-df-convert:hover {\n",
              "      background-color: #434B5C;\n",
              "      box-shadow: 0px 1px 3px 1px rgba(0, 0, 0, 0.15);\n",
              "      filter: drop-shadow(0px 1px 2px rgba(0, 0, 0, 0.3));\n",
              "      fill: #FFFFFF;\n",
              "    }\n",
              "  </style>\n",
              "\n",
              "    <script>\n",
              "      const buttonEl =\n",
              "        document.querySelector('#df-200325df-3bf5-46b8-9186-aaa4aeddb4f4 button.colab-df-convert');\n",
              "      buttonEl.style.display =\n",
              "        google.colab.kernel.accessAllowed ? 'block' : 'none';\n",
              "\n",
              "      async function convertToInteractive(key) {\n",
              "        const element = document.querySelector('#df-200325df-3bf5-46b8-9186-aaa4aeddb4f4');\n",
              "        const dataTable =\n",
              "          await google.colab.kernel.invokeFunction('convertToInteractive',\n",
              "                                                    [key], {});\n",
              "        if (!dataTable) return;\n",
              "\n",
              "        const docLinkHtml = 'Like what you see? Visit the ' +\n",
              "          '<a target=\"_blank\" href=https://colab.research.google.com/notebooks/data_table.ipynb>data table notebook</a>'\n",
              "          + ' to learn more about interactive tables.';\n",
              "        element.innerHTML = '';\n",
              "        dataTable['output_type'] = 'display_data';\n",
              "        await google.colab.output.renderOutput(dataTable, element);\n",
              "        const docLink = document.createElement('div');\n",
              "        docLink.innerHTML = docLinkHtml;\n",
              "        element.appendChild(docLink);\n",
              "      }\n",
              "    </script>\n",
              "  </div>\n",
              "\n",
              "\n",
              "<div id=\"df-67a5e124-4621-4998-ac96-d8e95a32409b\">\n",
              "  <button class=\"colab-df-quickchart\" onclick=\"quickchart('df-67a5e124-4621-4998-ac96-d8e95a32409b')\"\n",
              "            title=\"Suggest charts.\"\n",
              "            style=\"display:none;\">\n",
              "\n",
              "<svg xmlns=\"http://www.w3.org/2000/svg\" height=\"24px\"viewBox=\"0 0 24 24\"\n",
              "     width=\"24px\">\n",
              "    <g>\n",
              "        <path d=\"M19 3H5c-1.1 0-2 .9-2 2v14c0 1.1.9 2 2 2h14c1.1 0 2-.9 2-2V5c0-1.1-.9-2-2-2zM9 17H7v-7h2v7zm4 0h-2V7h2v10zm4 0h-2v-4h2v4z\"/>\n",
              "    </g>\n",
              "</svg>\n",
              "  </button>\n",
              "\n",
              "<style>\n",
              "  .colab-df-quickchart {\n",
              "    background-color: #E8F0FE;\n",
              "    border: none;\n",
              "    border-radius: 50%;\n",
              "    cursor: pointer;\n",
              "    display: none;\n",
              "    fill: #1967D2;\n",
              "    height: 32px;\n",
              "    padding: 0 0 0 0;\n",
              "    width: 32px;\n",
              "  }\n",
              "\n",
              "  .colab-df-quickchart:hover {\n",
              "    background-color: #E2EBFA;\n",
              "    box-shadow: 0px 1px 2px rgba(60, 64, 67, 0.3), 0px 1px 3px 1px rgba(60, 64, 67, 0.15);\n",
              "    fill: #174EA6;\n",
              "  }\n",
              "\n",
              "  [theme=dark] .colab-df-quickchart {\n",
              "    background-color: #3B4455;\n",
              "    fill: #D2E3FC;\n",
              "  }\n",
              "\n",
              "  [theme=dark] .colab-df-quickchart:hover {\n",
              "    background-color: #434B5C;\n",
              "    box-shadow: 0px 1px 3px 1px rgba(0, 0, 0, 0.15);\n",
              "    filter: drop-shadow(0px 1px 2px rgba(0, 0, 0, 0.3));\n",
              "    fill: #FFFFFF;\n",
              "  }\n",
              "</style>\n",
              "\n",
              "  <script>\n",
              "    async function quickchart(key) {\n",
              "      const charts = await google.colab.kernel.invokeFunction(\n",
              "          'suggestCharts', [key], {});\n",
              "    }\n",
              "    (() => {\n",
              "      let quickchartButtonEl =\n",
              "        document.querySelector('#df-67a5e124-4621-4998-ac96-d8e95a32409b button');\n",
              "      quickchartButtonEl.style.display =\n",
              "        google.colab.kernel.accessAllowed ? 'block' : 'none';\n",
              "    })();\n",
              "  </script>\n",
              "</div>\n",
              "    </div>\n",
              "  </div>\n"
            ]
          },
          "metadata": {},
          "execution_count": 675
        }
      ]
    },
    {
      "cell_type": "markdown",
      "source": [
        "Aquí es donde el proceso se vuelve interesante. Ahora necesitamos vectorizar nuestros tweets, y para lograrlo utilizaremos \"TfidfVectorizer\". Esta herramienta asignará pesos a nuestras palabras y ayudará a capturar mejor el contexto de las oraciones. El resultado será un DataFrame en el que las palabras se convierten en columnas, las filas representan los tweets y sus ponderaciones correspondientes.\n"
      ],
      "metadata": {
        "id": "1CAF8G9F4wWM"
      }
    },
    {
      "cell_type": "code",
      "source": [
        "from sklearn.feature_extraction.text import TfidfVectorizer\n",
        "Danni_Flow = TfidfVectorizer() #La variable la iba a llamar vector, pero todos sabemos que danni flow se parece a vector\n",
        "V_TWEET = Danni_Flow.fit_transform(data_2['Tweet'])"
      ],
      "metadata": {
        "id": "BXUTaxTeQVnr"
      },
      "execution_count": null,
      "outputs": []
    },
    {
      "cell_type": "code",
      "source": [
        "P_F= pd.DataFrame(V_TWEET.toarray(), columns=Danni_Flow.get_feature_names_out())"
      ],
      "metadata": {
        "id": "QsW7o7DeCWk0"
      },
      "execution_count": null,
      "outputs": []
    },
    {
      "cell_type": "markdown",
      "source": [
        "Aquí es donde empezamos a importar el algoritmo de naive bayes y separamos el dataset para entrenarlo"
      ],
      "metadata": {
        "id": "1zz0A-Aa5Wkx"
      }
    },
    {
      "cell_type": "code",
      "source": [
        "from sklearn.model_selection import train_test_split\n",
        "from sklearn.naive_bayes import MultinomialNB\n",
        "from sklearn.metrics import accuracy_score, classification_report"
      ],
      "metadata": {
        "id": "MJRTn-HpDjXt"
      },
      "execution_count": null,
      "outputs": []
    },
    {
      "cell_type": "code",
      "source": [
        "X_train, X_test, Y_train, Y_test=train_test_split(\n",
        "    P_F, data_2[\"Suicide\"], test_size=0.3, random_state=42\n",
        ")"
      ],
      "metadata": {
        "id": "6dyhcWE3FPBu"
      },
      "execution_count": null,
      "outputs": []
    },
    {
      "cell_type": "markdown",
      "source": [
        "Utilizamos la distribución multinomial porque es la más adecuada para los casos en los que se requiere categorización."
      ],
      "metadata": {
        "id": "BdUQ10SF5jHi"
      }
    },
    {
      "cell_type": "code",
      "source": [
        "nm_class=MultinomialNB()\n",
        "nm_class.fit(X_train,Y_train)"
      ],
      "metadata": {
        "id": "KA5PezgtFyn4"
      },
      "execution_count": null,
      "outputs": []
    },
    {
      "cell_type": "code",
      "source": [
        "Y_Pred=nm_class.predict(X_test)"
      ],
      "metadata": {
        "id": "a9u8GXqCF6xo"
      },
      "execution_count": null,
      "outputs": []
    },
    {
      "cell_type": "markdown",
      "source": [
        "Podemos observar que el modelo presenta un excelente desempeño con una exactitud del 0.91, lo cual sin duda indica que es una aproximación sólida y cuenta con un fundamento sólido."
      ],
      "metadata": {
        "id": "ANqvC_KM5q1Y"
      }
    },
    {
      "cell_type": "code",
      "source": [
        "accuracy = accuracy_score(Y_test, Y_Pred)\n",
        "report = classification_report(Y_test, Y_Pred)\n",
        "print(f\"Exactitud: {accuracy:.2f}\")\n",
        "print(\"Reporte de clasificación:\\n\", report)"
      ],
      "metadata": {
        "colab": {
          "base_uri": "https://localhost:8080/"
        },
        "id": "DL4IOPM8GSRc",
        "outputId": "747b1eac-bc4d-45fd-8c8e-2d9a5731d456"
      },
      "execution_count": null,
      "outputs": [
        {
          "output_type": "stream",
          "name": "stdout",
          "text": [
            "Exactitud: 0.91\n",
            "Reporte de clasificación:\n",
            "               precision    recall  f1-score   support\n",
            "\n",
            "           0       0.89      0.98      0.93       338\n",
            "           1       0.96      0.80      0.87       198\n",
            "\n",
            "    accuracy                           0.91       536\n",
            "   macro avg       0.92      0.89      0.90       536\n",
            "weighted avg       0.92      0.91      0.91       536\n",
            "\n"
          ]
        }
      ]
    },
    {
      "cell_type": "markdown",
      "source": [
        "Procedemos a generar la validación cruzada para poder ver como se comporta el modelo en distintas particiones del dataset."
      ],
      "metadata": {
        "id": "YZZOCqyj6BSY"
      }
    },
    {
      "cell_type": "code",
      "source": [
        "from sklearn.model_selection import cross_val_score\n",
        "scores = cross_val_score(MultinomialNB(), P_F, data_2[\"Suicide\"], scoring=\"accuracy\", cv=10)\n",
        "\n",
        "mean_score = scores.mean()\n",
        "std_score = scores.std()\n",
        "print(scores)\n",
        "print(\"Media de puntajes:\", mean_score)\n",
        "print(\"Desviación estándar de puntajes:\", std_score)"
      ],
      "metadata": {
        "colab": {
          "base_uri": "https://localhost:8080/"
        },
        "id": "16hcs3I9Ghrf",
        "outputId": "4b522d50-368c-49a3-8a73-ce1b1f52847e"
      },
      "execution_count": null,
      "outputs": [
        {
          "output_type": "stream",
          "name": "stdout",
          "text": [
            "[0.88268156 0.91620112 0.93854749 0.87709497 0.93296089 0.91011236\n",
            " 0.93258427 0.92134831 0.91011236 0.91011236]\n",
            "Media de puntajes: 0.9131755696440902\n",
            "Desviación estándar de puntajes: 0.019358931235342106\n"
          ]
        }
      ]
    },
    {
      "cell_type": "code",
      "source": [
        "prediccion_X=pd.DataFrame({\n",
        "    \"Y_pred\" : nm_class.predict(P_F),\n",
        "    \"Y_original\" : data_2[\"Suicide\"],\n",
        "    \"Probabilidad\": nm_class.predict_proba(P_F).T [1],\n",
        "    \"Complemento\": nm_class.predict_proba(P_F).T [0]\n",
        "})"
      ],
      "metadata": {
        "id": "pN11zNRXM0q_"
      },
      "execution_count": null,
      "outputs": []
    },
    {
      "cell_type": "markdown",
      "source": [
        "Aquí tenemos un dataframe donde  podemos ver las probabilidades de que sea catalogado como un tweet de potencial de suicidio y su complemento."
      ],
      "metadata": {
        "id": "90MwJna16Jv4"
      }
    },
    {
      "cell_type": "code",
      "source": [
        "prediccion_X"
      ],
      "metadata": {
        "colab": {
          "base_uri": "https://localhost:8080/",
          "height": 423
        },
        "id": "JzlsMlyO0U99",
        "outputId": "4ae4eb94-70f5-4241-d7bc-7f93af9b1abf"
      },
      "execution_count": null,
      "outputs": [
        {
          "output_type": "execute_result",
          "data": {
            "text/plain": [
              "      Y_pred  Y_original  Probabilidad  Complemento\n",
              "0          0           0      0.143420     0.856580\n",
              "1          0           0      0.211432     0.788568\n",
              "2          1           1      0.720608     0.279392\n",
              "3          0           0      0.177908     0.822092\n",
              "4          0           0      0.141080     0.858920\n",
              "...      ...         ...           ...          ...\n",
              "1782       0           0      0.289373     0.710627\n",
              "1783       0           0      0.128508     0.871492\n",
              "1784       0           0      0.107359     0.892641\n",
              "1785       0           0      0.312196     0.687804\n",
              "1786       0           0      0.200618     0.799382\n",
              "\n",
              "[1785 rows x 4 columns]"
            ],
            "text/html": [
              "\n",
              "  <div id=\"df-4fedda49-8a7d-4dc8-aaf6-620bd0ba5b0e\" class=\"colab-df-container\">\n",
              "    <div>\n",
              "<style scoped>\n",
              "    .dataframe tbody tr th:only-of-type {\n",
              "        vertical-align: middle;\n",
              "    }\n",
              "\n",
              "    .dataframe tbody tr th {\n",
              "        vertical-align: top;\n",
              "    }\n",
              "\n",
              "    .dataframe thead th {\n",
              "        text-align: right;\n",
              "    }\n",
              "</style>\n",
              "<table border=\"1\" class=\"dataframe\">\n",
              "  <thead>\n",
              "    <tr style=\"text-align: right;\">\n",
              "      <th></th>\n",
              "      <th>Y_pred</th>\n",
              "      <th>Y_original</th>\n",
              "      <th>Probabilidad</th>\n",
              "      <th>Complemento</th>\n",
              "    </tr>\n",
              "  </thead>\n",
              "  <tbody>\n",
              "    <tr>\n",
              "      <th>0</th>\n",
              "      <td>0</td>\n",
              "      <td>0</td>\n",
              "      <td>0.143420</td>\n",
              "      <td>0.856580</td>\n",
              "    </tr>\n",
              "    <tr>\n",
              "      <th>1</th>\n",
              "      <td>0</td>\n",
              "      <td>0</td>\n",
              "      <td>0.211432</td>\n",
              "      <td>0.788568</td>\n",
              "    </tr>\n",
              "    <tr>\n",
              "      <th>2</th>\n",
              "      <td>1</td>\n",
              "      <td>1</td>\n",
              "      <td>0.720608</td>\n",
              "      <td>0.279392</td>\n",
              "    </tr>\n",
              "    <tr>\n",
              "      <th>3</th>\n",
              "      <td>0</td>\n",
              "      <td>0</td>\n",
              "      <td>0.177908</td>\n",
              "      <td>0.822092</td>\n",
              "    </tr>\n",
              "    <tr>\n",
              "      <th>4</th>\n",
              "      <td>0</td>\n",
              "      <td>0</td>\n",
              "      <td>0.141080</td>\n",
              "      <td>0.858920</td>\n",
              "    </tr>\n",
              "    <tr>\n",
              "      <th>...</th>\n",
              "      <td>...</td>\n",
              "      <td>...</td>\n",
              "      <td>...</td>\n",
              "      <td>...</td>\n",
              "    </tr>\n",
              "    <tr>\n",
              "      <th>1782</th>\n",
              "      <td>0</td>\n",
              "      <td>0</td>\n",
              "      <td>0.289373</td>\n",
              "      <td>0.710627</td>\n",
              "    </tr>\n",
              "    <tr>\n",
              "      <th>1783</th>\n",
              "      <td>0</td>\n",
              "      <td>0</td>\n",
              "      <td>0.128508</td>\n",
              "      <td>0.871492</td>\n",
              "    </tr>\n",
              "    <tr>\n",
              "      <th>1784</th>\n",
              "      <td>0</td>\n",
              "      <td>0</td>\n",
              "      <td>0.107359</td>\n",
              "      <td>0.892641</td>\n",
              "    </tr>\n",
              "    <tr>\n",
              "      <th>1785</th>\n",
              "      <td>0</td>\n",
              "      <td>0</td>\n",
              "      <td>0.312196</td>\n",
              "      <td>0.687804</td>\n",
              "    </tr>\n",
              "    <tr>\n",
              "      <th>1786</th>\n",
              "      <td>0</td>\n",
              "      <td>0</td>\n",
              "      <td>0.200618</td>\n",
              "      <td>0.799382</td>\n",
              "    </tr>\n",
              "  </tbody>\n",
              "</table>\n",
              "<p>1785 rows × 4 columns</p>\n",
              "</div>\n",
              "    <div class=\"colab-df-buttons\">\n",
              "\n",
              "  <div class=\"colab-df-container\">\n",
              "    <button class=\"colab-df-convert\" onclick=\"convertToInteractive('df-4fedda49-8a7d-4dc8-aaf6-620bd0ba5b0e')\"\n",
              "            title=\"Convert this dataframe to an interactive table.\"\n",
              "            style=\"display:none;\">\n",
              "\n",
              "  <svg xmlns=\"http://www.w3.org/2000/svg\" height=\"24px\" viewBox=\"0 -960 960 960\">\n",
              "    <path d=\"M120-120v-720h720v720H120Zm60-500h600v-160H180v160Zm220 220h160v-160H400v160Zm0 220h160v-160H400v160ZM180-400h160v-160H180v160Zm440 0h160v-160H620v160ZM180-180h160v-160H180v160Zm440 0h160v-160H620v160Z\"/>\n",
              "  </svg>\n",
              "    </button>\n",
              "\n",
              "  <style>\n",
              "    .colab-df-container {\n",
              "      display:flex;\n",
              "      gap: 12px;\n",
              "    }\n",
              "\n",
              "    .colab-df-convert {\n",
              "      background-color: #E8F0FE;\n",
              "      border: none;\n",
              "      border-radius: 50%;\n",
              "      cursor: pointer;\n",
              "      display: none;\n",
              "      fill: #1967D2;\n",
              "      height: 32px;\n",
              "      padding: 0 0 0 0;\n",
              "      width: 32px;\n",
              "    }\n",
              "\n",
              "    .colab-df-convert:hover {\n",
              "      background-color: #E2EBFA;\n",
              "      box-shadow: 0px 1px 2px rgba(60, 64, 67, 0.3), 0px 1px 3px 1px rgba(60, 64, 67, 0.15);\n",
              "      fill: #174EA6;\n",
              "    }\n",
              "\n",
              "    .colab-df-buttons div {\n",
              "      margin-bottom: 4px;\n",
              "    }\n",
              "\n",
              "    [theme=dark] .colab-df-convert {\n",
              "      background-color: #3B4455;\n",
              "      fill: #D2E3FC;\n",
              "    }\n",
              "\n",
              "    [theme=dark] .colab-df-convert:hover {\n",
              "      background-color: #434B5C;\n",
              "      box-shadow: 0px 1px 3px 1px rgba(0, 0, 0, 0.15);\n",
              "      filter: drop-shadow(0px 1px 2px rgba(0, 0, 0, 0.3));\n",
              "      fill: #FFFFFF;\n",
              "    }\n",
              "  </style>\n",
              "\n",
              "    <script>\n",
              "      const buttonEl =\n",
              "        document.querySelector('#df-4fedda49-8a7d-4dc8-aaf6-620bd0ba5b0e button.colab-df-convert');\n",
              "      buttonEl.style.display =\n",
              "        google.colab.kernel.accessAllowed ? 'block' : 'none';\n",
              "\n",
              "      async function convertToInteractive(key) {\n",
              "        const element = document.querySelector('#df-4fedda49-8a7d-4dc8-aaf6-620bd0ba5b0e');\n",
              "        const dataTable =\n",
              "          await google.colab.kernel.invokeFunction('convertToInteractive',\n",
              "                                                    [key], {});\n",
              "        if (!dataTable) return;\n",
              "\n",
              "        const docLinkHtml = 'Like what you see? Visit the ' +\n",
              "          '<a target=\"_blank\" href=https://colab.research.google.com/notebooks/data_table.ipynb>data table notebook</a>'\n",
              "          + ' to learn more about interactive tables.';\n",
              "        element.innerHTML = '';\n",
              "        dataTable['output_type'] = 'display_data';\n",
              "        await google.colab.output.renderOutput(dataTable, element);\n",
              "        const docLink = document.createElement('div');\n",
              "        docLink.innerHTML = docLinkHtml;\n",
              "        element.appendChild(docLink);\n",
              "      }\n",
              "    </script>\n",
              "  </div>\n",
              "\n",
              "\n",
              "<div id=\"df-826ecfe8-6cfc-4ba6-aeb5-1d00d62a52a5\">\n",
              "  <button class=\"colab-df-quickchart\" onclick=\"quickchart('df-826ecfe8-6cfc-4ba6-aeb5-1d00d62a52a5')\"\n",
              "            title=\"Suggest charts.\"\n",
              "            style=\"display:none;\">\n",
              "\n",
              "<svg xmlns=\"http://www.w3.org/2000/svg\" height=\"24px\"viewBox=\"0 0 24 24\"\n",
              "     width=\"24px\">\n",
              "    <g>\n",
              "        <path d=\"M19 3H5c-1.1 0-2 .9-2 2v14c0 1.1.9 2 2 2h14c1.1 0 2-.9 2-2V5c0-1.1-.9-2-2-2zM9 17H7v-7h2v7zm4 0h-2V7h2v10zm4 0h-2v-4h2v4z\"/>\n",
              "    </g>\n",
              "</svg>\n",
              "  </button>\n",
              "\n",
              "<style>\n",
              "  .colab-df-quickchart {\n",
              "    background-color: #E8F0FE;\n",
              "    border: none;\n",
              "    border-radius: 50%;\n",
              "    cursor: pointer;\n",
              "    display: none;\n",
              "    fill: #1967D2;\n",
              "    height: 32px;\n",
              "    padding: 0 0 0 0;\n",
              "    width: 32px;\n",
              "  }\n",
              "\n",
              "  .colab-df-quickchart:hover {\n",
              "    background-color: #E2EBFA;\n",
              "    box-shadow: 0px 1px 2px rgba(60, 64, 67, 0.3), 0px 1px 3px 1px rgba(60, 64, 67, 0.15);\n",
              "    fill: #174EA6;\n",
              "  }\n",
              "\n",
              "  [theme=dark] .colab-df-quickchart {\n",
              "    background-color: #3B4455;\n",
              "    fill: #D2E3FC;\n",
              "  }\n",
              "\n",
              "  [theme=dark] .colab-df-quickchart:hover {\n",
              "    background-color: #434B5C;\n",
              "    box-shadow: 0px 1px 3px 1px rgba(0, 0, 0, 0.15);\n",
              "    filter: drop-shadow(0px 1px 2px rgba(0, 0, 0, 0.3));\n",
              "    fill: #FFFFFF;\n",
              "  }\n",
              "</style>\n",
              "\n",
              "  <script>\n",
              "    async function quickchart(key) {\n",
              "      const charts = await google.colab.kernel.invokeFunction(\n",
              "          'suggestCharts', [key], {});\n",
              "    }\n",
              "    (() => {\n",
              "      let quickchartButtonEl =\n",
              "        document.querySelector('#df-826ecfe8-6cfc-4ba6-aeb5-1d00d62a52a5 button');\n",
              "      quickchartButtonEl.style.display =\n",
              "        google.colab.kernel.accessAllowed ? 'block' : 'none';\n",
              "    })();\n",
              "  </script>\n",
              "</div>\n",
              "    </div>\n",
              "  </div>\n"
            ]
          },
          "metadata": {},
          "execution_count": 704
        }
      ]
    },
    {
      "cell_type": "markdown",
      "source": [
        "Debemos tener en cuenta que nuestro modelo tiene margen de mejora en la reducción de falsos negativos, ya que la precisión en los falsos positivos fue superior. Esta situación puede resolverse eficazmente al incrementar la cantidad de datos en los cuales se pueda identificar contenido que promueva el suicidio. Con un conjunto de datos más amplio y representativo, el algoritmo podrá entrenarse de manera más efectiva, lo que resultará en una mayor capacidad para detectar casos de incitación al suicidio."
      ],
      "metadata": {
        "id": "XeoUxQVQ6UQ-"
      }
    },
    {
      "cell_type": "code",
      "source": [
        "Falsos_neg=prediccion_X[(prediccion_X['Y_original']==1) & (prediccion_X['Y_pred']==0)]\n",
        "Falsos_pos=prediccion_X[(prediccion_X['Y_original']==0) & (prediccion_X['Y_pred']==1)]"
      ],
      "metadata": {
        "id": "FvEajuh2N_QE"
      },
      "execution_count": null,
      "outputs": []
    },
    {
      "cell_type": "code",
      "source": [
        "Falsos_pos[\"Y_pred\"].sum(), Falsos_neg[\"Y_original\"].sum()"
      ],
      "metadata": {
        "colab": {
          "base_uri": "https://localhost:8080/"
        },
        "id": "A5U5Uhedz4rC",
        "outputId": "6951025e-6839-439e-84b0-bd5fa4a0d8c0"
      },
      "execution_count": null,
      "outputs": [
        {
          "output_type": "execute_result",
          "data": {
            "text/plain": [
              "(8, 54)"
            ]
          },
          "metadata": {},
          "execution_count": 708
        }
      ]
    },
    {
      "cell_type": "markdown",
      "source": [
        "Podemos concluir de manera satisfactoria que el modelo se ha adaptado a los datos disponibles y ha demostrado un desempeño prometedor. Sin embargo, es importante reconocer que siempre existe margen para mejoras. Esto refleja una ley natural de la vida: todo es perfectible y continuamente se puede evolucionar.\n",
        "\n",
        "Aunque el modelo ha logrado una gran aproximación en la detección de casos relevantes, es evidente que su rendimiento podría beneficiarse al expandir el número de datos disponibles. Al aumentar el tamaño y la diversidad del conjunto de datos, el modelo tendrá la oportunidad de aprender de una gama más amplia de situaciones y matices. Este enfoque tiene el potencial de elevar aún más su eficacia y precisión en la detección de contenido que involucre incitación al suicidio."
      ],
      "metadata": {
        "id": "zpzwCyJU68S8"
      }
    }
  ]
}